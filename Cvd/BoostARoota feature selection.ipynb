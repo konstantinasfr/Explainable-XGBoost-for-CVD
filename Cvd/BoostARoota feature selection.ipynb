{
 "cells": [
  {
   "cell_type": "code",
   "execution_count": 17,
   "metadata": {},
   "outputs": [],
   "source": [
    "import pandas as pd\n",
    "from boostaroota import BoostARoota\n",
    "import urllib\n",
    "\n",
    "#################\n",
    "#Madelon Dataset\n",
    "train_url = 'http://archive.ics.uci.edu/ml/machine-learning-databases/madelon/MADELON/madelon_train.data'\n",
    "# download the file\n",
    "raw_data = urllib.request.urlopen(train_url)\n",
    "train = pd.read_csv('CVD-dataset-train.csv')\n",
    "train.columns = [\"Var\"+str(x) for x in range(len(train.columns))]\n",
    "labels_url = 'http://archive.ics.uci.edu/ml/machine-learning-databases/madelon/MADELON/madelon_train.labels'\n",
    "raw_data = urllib.request.urlopen(labels_url)\n",
    "labels = pd.read_csv('CVD-dataset-test.csv')\n",
    "labels.columns = [\"Y\"]\n",
    "\n"
   ]
  },
  {
   "cell_type": "code",
   "execution_count": 20,
   "metadata": {},
   "outputs": [
    {
     "name": "stdout",
     "output_type": "stream",
     "text": [
      "       Y\n",
      "0    0.0\n",
      "1    0.0\n",
      "2    0.0\n",
      "3    0.0\n",
      "4    0.0\n",
      "..   ...\n",
      "555  0.0\n",
      "556  0.0\n",
      "557  0.0\n",
      "558  0.0\n",
      "559  0.0\n",
      "\n",
      "[560 rows x 1 columns]\n"
     ]
    }
   ],
   "source": [
    "print(labels)"
   ]
  },
  {
   "cell_type": "code",
   "execution_count": 21,
   "metadata": {},
   "outputs": [
    {
     "name": "stdout",
     "output_type": "stream",
     "text": [
      "Round:  1  iteration:  1\n",
      "Round:  1  iteration:  2\n",
      "Round:  1  iteration:  3\n",
      "Round:  1  iteration:  4\n",
      "Round:  1  iteration:  5\n",
      "Round:  1  iteration:  6\n",
      "Round:  1  iteration:  7\n",
      "Round:  1  iteration:  8\n",
      "Round:  1  iteration:  9\n",
      "Round:  1  iteration:  10\n",
      "BoostARoota ran successfully! Algorithm went through  1  rounds.\n",
      "Round:  1  iteration:  1\n",
      "Round:  1  iteration:  2\n",
      "Round:  1  iteration:  3\n",
      "Round:  1  iteration:  4\n",
      "Round:  1  iteration:  5\n",
      "Round:  1  iteration:  6\n",
      "Round:  1  iteration:  7\n",
      "Round:  1  iteration:  8\n",
      "Round:  1  iteration:  9\n",
      "Round:  1  iteration:  10\n",
      "Round:  2  iteration:  1\n",
      "Round:  2  iteration:  2\n",
      "Round:  2  iteration:  3\n",
      "Round:  2  iteration:  4\n",
      "Round:  2  iteration:  5\n",
      "Round:  2  iteration:  6\n",
      "Round:  2  iteration:  7\n",
      "Round:  2  iteration:  8\n",
      "Round:  2  iteration:  9\n",
      "Round:  2  iteration:  10\n",
      "BoostARoota ran successfully! Algorithm went through  2  rounds.\n",
      "     Var0  Var1  Var2   Var3  Var5  Var6  Var8  Var9  Var10  Var11  Var12  \\\n",
      "0     2.0  71.0  18.0  19.78   1.0   2.0   1.0   1.0     55    6.6   90.0   \n",
      "1     1.0  38.0   2.0  23.31   3.0   1.0   1.0   1.0     20   10.0  260.0   \n",
      "2     1.0  81.0   7.0  29.06   2.0   2.0   1.0   1.0     65    5.4  140.0   \n",
      "3     1.0  50.0  11.0  27.93   3.0   2.0   1.0   1.0     40    7.1  160.0   \n",
      "4     2.0  62.0  25.0  20.70   1.0   1.0   1.0   1.0     45    4.2  100.0   \n",
      "..    ...   ...   ...    ...   ...   ...   ...   ...    ...    ...    ...   \n",
      "555   1.0  58.0   3.0  24.96   2.0   2.0   1.0   1.0     60    5.8  140.0   \n",
      "556   2.0  77.0  17.0  25.10   1.0   1.0   1.0   1.0     70    6.9  145.0   \n",
      "557   2.0  66.0   0.0  29.21   1.0   2.0   2.0   1.0     60    6.4  130.0   \n",
      "558   1.0  71.0  22.0  31.57   1.0   2.0   1.0   1.0     80    9.5  145.0   \n",
      "559   2.0  56.0   0.0  32.28   1.0   2.0   2.0   3.0     60    7.1  125.0   \n",
      "\n",
      "     Var13  Var14  Var15  \n",
      "0    153.0   71.0   50.0  \n",
      "1    189.0   79.0   47.0  \n",
      "2    161.0   90.0   40.0  \n",
      "3    204.0   78.0   45.0  \n",
      "4    153.0   51.0   46.0  \n",
      "..     ...    ...    ...  \n",
      "555  210.0  138.0   51.0  \n",
      "556  202.0   72.0   55.0  \n",
      "557  330.0  282.0   94.0  \n",
      "558  216.0  235.0   44.0  \n",
      "559  156.0   85.0   43.0  \n",
      "\n",
      "[560 rows x 14 columns]\n",
      "Original training set has (560, 16) dimensions. \n",
      "BoostARoota with .fit() and .transform() reduces to (560, 15) dimensions. \n",
      "BoostARoota with .fit_transform() reduces to (560, 14) dimensions.\n",
      "The two methods may give a slightly different dimensions because of random variation as it is being refit\n"
     ]
    }
   ],
   "source": [
    "\n",
    "########################################################################################################################\n",
    "#\n",
    "#  Test that BoostARoota is working\n",
    "#\n",
    "########################################################################################################################\n",
    "br = BoostARoota(metric='logloss')\n",
    "\n",
    "br.fit(train,labels)\n",
    "len(train.columns)\n",
    "len(br.keep_vars_)\n",
    "new_train = br.transform(train)\n",
    "new_train2 = br.fit_transform(train,labels)\n",
    "print(new_train2)\n",
    "\n",
    "#Dimension Reduction\n",
    "print(\"Original training set has \" + str(train.shape) + \" dimensions. \\n\" +\\\n",
    "\"BoostARoota with .fit() and .transform() reduces to \" + str(new_train.shape) + \" dimensions. \\n\" +\\\n",
    "\"BoostARoota with .fit_transform() reduces to \" + str(new_train2.shape) + \" dimensions.\\n\" +\\\n",
    "\"The two methods may give a slightly different dimensions because of random variation as it is being refit\")\n"
   ]
  },
  {
   "cell_type": "code",
   "execution_count": 22,
   "metadata": {},
   "outputs": [
    {
     "name": "stdout",
     "output_type": "stream",
     "text": [
      "0      Var0\n",
      "1      Var1\n",
      "2      Var2\n",
      "3      Var3\n",
      "4      Var5\n",
      "5      Var6\n",
      "6      Var8\n",
      "7      Var9\n",
      "8     Var10\n",
      "9     Var11\n",
      "10    Var12\n",
      "11    Var13\n",
      "12    Var14\n",
      "13    Var15\n",
      "Name: feature, dtype: object\n"
     ]
    }
   ],
   "source": [
    "print(br.keep_vars_)"
   ]
  },
  {
   "cell_type": "code",
   "execution_count": 12,
   "metadata": {},
   "outputs": [
    {
     "name": "stdout",
     "output_type": "stream",
     "text": [
      "<class 'pandas.core.frame.DataFrame'>\n"
     ]
    }
   ],
   "source": [
    "print(type(train))"
   ]
  },
  {
   "cell_type": "code",
   "execution_count": 11,
   "metadata": {},
   "outputs": [
    {
     "name": "stdout",
     "output_type": "stream",
     "text": [
      "<class 'http.client.HTTPResponse'>\n"
     ]
    }
   ],
   "source": [
    "print(type(raw_data))"
   ]
  },
  {
   "cell_type": "code",
   "execution_count": 24,
   "metadata": {},
   "outputs": [
    {
     "name": "stdout",
     "output_type": "stream",
     "text": [
      "     Var0  Var1  Var2   Var3  Var5  Var6  Var8  Var9  Var10  Var11  Var12  \\\n",
      "0     2.0  71.0  18.0  19.78   1.0   2.0   1.0   1.0     55    6.6   90.0   \n",
      "1     1.0  38.0   2.0  23.31   3.0   1.0   1.0   1.0     20   10.0  260.0   \n",
      "2     1.0  81.0   7.0  29.06   2.0   2.0   1.0   1.0     65    5.4  140.0   \n",
      "3     1.0  50.0  11.0  27.93   3.0   2.0   1.0   1.0     40    7.1  160.0   \n",
      "4     2.0  62.0  25.0  20.70   1.0   1.0   1.0   1.0     45    4.2  100.0   \n",
      "..    ...   ...   ...    ...   ...   ...   ...   ...    ...    ...    ...   \n",
      "555   1.0  58.0   3.0  24.96   2.0   2.0   1.0   1.0     60    5.8  140.0   \n",
      "556   2.0  77.0  17.0  25.10   1.0   1.0   1.0   1.0     70    6.9  145.0   \n",
      "557   2.0  66.0   0.0  29.21   1.0   2.0   2.0   1.0     60    6.4  130.0   \n",
      "558   1.0  71.0  22.0  31.57   1.0   2.0   1.0   1.0     80    9.5  145.0   \n",
      "559   2.0  56.0   0.0  32.28   1.0   2.0   2.0   3.0     60    7.1  125.0   \n",
      "\n",
      "     Var13  Var14  Var15  \n",
      "0    153.0   71.0   50.0  \n",
      "1    189.0   79.0   47.0  \n",
      "2    161.0   90.0   40.0  \n",
      "3    204.0   78.0   45.0  \n",
      "4    153.0   51.0   46.0  \n",
      "..     ...    ...    ...  \n",
      "555  210.0  138.0   51.0  \n",
      "556  202.0   72.0   55.0  \n",
      "557  330.0  282.0   94.0  \n",
      "558  216.0  235.0   44.0  \n",
      "559  156.0   85.0   43.0  \n",
      "\n",
      "[560 rows x 14 columns]\n"
     ]
    }
   ],
   "source": [
    "print(new_train2)"
   ]
  },
  {
   "cell_type": "code",
   "execution_count": null,
   "metadata": {},
   "outputs": [],
   "source": []
  }
 ],
 "metadata": {
  "kernelspec": {
   "display_name": "Python 3",
   "language": "python",
   "name": "python3"
  },
  "language_info": {
   "codemirror_mode": {
    "name": "ipython",
    "version": 3
   },
   "file_extension": ".py",
   "mimetype": "text/x-python",
   "name": "python",
   "nbconvert_exporter": "python",
   "pygments_lexer": "ipython3",
   "version": "3.7.6"
  }
 },
 "nbformat": 4,
 "nbformat_minor": 4
}
