{
 "cells": [
  {
   "cell_type": "markdown",
   "metadata": {},
   "source": [
    "# Unweighted Average"
   ]
  },
  {
   "cell_type": "code",
   "execution_count": 1,
   "metadata": {},
   "outputs": [
    {
     "name": "stdout",
     "output_type": "stream",
     "text": [
      "560\n",
      "17\n"
     ]
    }
   ],
   "source": [
    "# Importing the libraries\n",
    "import numpy as np\n",
    "import pandas as pd\n",
    "import sklearn\n",
    "import matplotlib.pyplot as plt\n",
    "import sys\n",
    "import numpy\n",
    "numpy.set_printoptions(threshold=sys.maxsize)\n",
    "\n",
    "f_size = 16\n",
    "first_time = True\n",
    "# Importing the dataset\n",
    "dataset = pd.read_csv('CVD dataset2.csv')\n",
    "data=dataset.iloc[:, :].values\n",
    "X = dataset.iloc[:, :-1].values\n",
    "y = dataset.iloc[:, f_size].values\n",
    "# X = dataset.iloc[:, [ 0, 1, 2, 5, 10, 11, 13, 15]].values\n",
    "\n",
    "rows = len(data)    # 3 rows in your example\n",
    "cols = len(data[0])\n",
    "print(rows)\n",
    "print(cols)"
   ]
  },
  {
   "cell_type": "code",
   "execution_count": 2,
   "metadata": {},
   "outputs": [
    {
     "name": "stdout",
     "output_type": "stream",
     "text": [
      "<class 'numpy.ndarray'>\n"
     ]
    }
   ],
   "source": [
    "print(type(X))"
   ]
  },
  {
   "cell_type": "code",
   "execution_count": 3,
   "metadata": {},
   "outputs": [
    {
     "name": "stdout",
     "output_type": "stream",
     "text": [
      "[[10 20 30 40 50]\n",
      " [ 6  7  8  9 10]]\n",
      "[[10 30 50 40 20]\n",
      " [ 6  8 10  9  7]]\n",
      "[[10 30 50 40 20]\n",
      " [ 6  8 10  9  7]]\n"
     ]
    }
   ],
   "source": [
    "import numpy as np\n",
    "\n",
    "a = np.array([[10, 20, 30, 40, 50],[ 6,  7,  8,  9, 10]])\n",
    "print(a)\n",
    "your_permutation = [0,4,1,3,2]\n",
    "idx = np.empty_like(your_permutation)\n",
    "# print(idx)\n",
    "idx[your_permutation] = np.arange(len(your_permutation))\n",
    "# print(idx)\n",
    "# a[:, idx]  # return a rearranged copy\n",
    "print(a[:, idx])\n",
    "# array([[10, 30, 50, 40, 20],[ 6,  8, 10,  9,  7]])\n",
    "\n",
    "a[:] = a[:, idx]  # in-p\n",
    "print(a)"
   ]
  },
  {
   "cell_type": "code",
   "execution_count": 4,
   "metadata": {
    "scrolled": true
   },
   "outputs": [
    {
     "name": "stdout",
     "output_type": "stream",
     "text": [
      "519\n",
      "41\n"
     ]
    }
   ],
   "source": [
    "dataNoCvd = data[~(data[:,f_size] > 0.0)]\n",
    "dataCvd = data[~(data[:,f_size] < 1.0)]\n",
    "rowsNoCvd = len(dataNoCvd)    \n",
    "rowsCvd = len(dataCvd)\n",
    "print(rowsNoCvd)\n",
    "print(rowsCvd)\n",
    "# print(dataNoCvd)\n",
    "# print(dataCvd)"
   ]
  },
  {
   "cell_type": "code",
   "execution_count": 5,
   "metadata": {},
   "outputs": [],
   "source": [
    "def find_NoCvd_limitsArray(i,DownNoCvd, UpNoCvd, fold_NoCvd_total, fold_NoCvd_residue):\n",
    "    if i>0 :\n",
    "        DownNoCvd = UpNoCvd\n",
    "        UpNoCvd= fold_NoCvd_total+UpNoCvd\n",
    "    if i < fold_NoCvd_residue :\n",
    "        UpNoCvd+= 1\n",
    "#     print(\"NoCvd limits, Down :\",DownNoCvd,\"Up \",UpNoCvd)\n",
    "    return   DownNoCvd, UpNoCvd   \n",
    " \n",
    "def find_Cvd_limitsArray(i,DownCvd, UpCvd, fold_Cvd_total, fold_Cvd_residue,cv):\n",
    "    if i>0 :\n",
    "        DownCvd = UpCvd\n",
    "        UpCvd= fold_Cvd_total+UpCvd\n",
    "    if i >= cv - fold_Cvd_residue :\n",
    "         UpCvd+= 1     \n",
    "#     print(\"Cvd limits, Down :\",DownCvd,\"Up \",UpCvd)\n",
    "    return   DownCvd, UpCvd  \n",
    "\n",
    "def find_testValSubset(DownNoCvd,UpNoCvd,DownCvd,UpCvd,dataNoCvd,dataCvd):\n",
    "    temp1=dataNoCvd[DownNoCvd:UpNoCvd,:]\n",
    "    temp2=dataCvd[DownCvd:UpCvd,:]\n",
    "    temp3=np.concatenate((temp1, temp2))\n",
    "#     print(len(temp1),\"  \",len(temp2),\"  \",len(temp3))\n",
    "    return temp3\n",
    "\n",
    "def find_trainSubset(DownNoCvd,UpNoCvd,DownCvd,UpCvd,dataNoCvd,dataCvd):\n",
    "    temp1 = np.delete(dataNoCvd, slice(DownNoCvd, UpNoCvd), axis=0)\n",
    "    temp2 = np.delete(dataCvd, slice(DownCvd, UpCvd), axis=0)\n",
    "    temp3 = np.concatenate((temp1, temp2))\n",
    "#     print(len(temp1),\"  \",len(temp2),\"  \",len(temp3))\n",
    "    return temp1, temp2, temp3\n",
    "\n",
    "def find_trainSubset1(DownNoCvd,UpNoCvd,DownCvd,UpCvd,dataNoCvd,dataCvd):\n",
    "    temp1 = np.delete(dataNoCvd, slice(DownNoCvd, UpNoCvd), axis=0)\n",
    "    temp2 = np.delete(dataCvd, slice(DownCvd, UpCvd), axis=0)\n",
    "#     print(\"len 1-2:\",len(temp1),len(temp2))\n",
    "    temp3 = np.delete(temp1, slice(0, 46), axis=0)\n",
    "    temp4 = np.delete(temp2, slice(0, 4), axis=0)\n",
    "#     print(\"len 3-4:\",len(temp3),len(temp4))\n",
    "    temp5 = np.concatenate((temp3, temp4))\n",
    "#     print(len(temp5))\n",
    "    return temp3, temp4, temp5"
   ]
  },
  {
   "cell_type": "code",
   "execution_count": 6,
   "metadata": {},
   "outputs": [],
   "source": [
    "# def find_NoCvd_limitsArray(i,DownNoCvd, UpNoCvd, fold_NoCvd_total, fold_NoCvd_residue):\n",
    "#     if i>0 :\n",
    "#         DownNoCvd = UpNoCvd\n",
    "#         UpNoCvd= fold_NoCvd_total+UpNoCvd\n",
    "#     if i < fold_NoCvd_residue :\n",
    "#         UpNoCvd+= 1\n",
    "#     return   DownNoCvd, UpNoCvd   \n",
    " \n",
    "# def find_Cvd_limitsArray(i,DownCvd, UpCvd, fold_Cvd_total, fold_Cvd_residue,cv):\n",
    "#     if i>0 :\n",
    "#         DownCvd = UpCvd\n",
    "#         UpCvd= fold_Cvd_total+UpCvd\n",
    "#     if i >= cv - fold_Cvd_residue :\n",
    "#          UpCvd+= 1     \n",
    "#     return   DownCvd, UpCvd  \n",
    "\n",
    "# def find_testValSubset(DownNoCvd,UpNoCvd,DownCvd,UpCvd,dataNoCvd,dataCvd):\n",
    "#     temp1=dataNoCvd[DownNoCvd:UpNoCvd,:]\n",
    "#     temp2=dataCvd[DownCvd:UpCvd,:]\n",
    "#     temp3=np.concatenate((temp1, temp2))\n",
    "#     return temp3\n",
    "\n",
    "# def find_trainSubset(DownNoCvd,UpNoCvd,DownCvd,UpCvd,dataNoCvd,dataCvd):\n",
    "#     temp1 = np.delete(dataNoCvd, slice(DownNoCvd, UpNoCvd), axis=0)\n",
    "#     temp2 = np.delete(dataCvd, slice(DownCvd, UpCvd), axis=0)\n",
    "#     temp3 = np.concatenate((temp1, temp2))\n",
    "#     return temp1, temp2, temp3\n",
    "\n",
    "# def find_trainSubset1(DownNoCvd,UpNoCvd,DownCvd,UpCvd,dataNoCvd,dataCvd):\n",
    "#     temp1 = np.delete(dataNoCvd, slice(DownNoCvd, UpNoCvd), axis=0)\n",
    "#     temp2 = np.delete(dataCvd, slice(DownCvd, UpCvd), axis=0)\n",
    "# #     print(\"len 1-2:\",len(temp1),len(temp2))\n",
    "#     temp3 = np.delete(temp1, slice(0, 46), axis=0)\n",
    "#     temp4 = np.delete(temp2, slice(0, 4), axis=0)\n",
    "# #     print(\"len 3-4:\",len(temp3),len(temp4))\n",
    "#     temp5 = np.concatenate((temp3, temp4))\n",
    "# #     print(len(temp5))\n",
    "#     return temp3, temp4, temp5"
   ]
  },
  {
   "cell_type": "code",
   "execution_count": 7,
   "metadata": {},
   "outputs": [],
   "source": [
    "def create_train_test_sets(f_size,cv,dataNoCvd,dataCvd,val_ratio):\n",
    "    test_total = []\n",
    "    train_total = []\n",
    "    train_total_Cvd = []\n",
    "    train_total_NoCvd = []\n",
    "    validation_total = []\n",
    "    \n",
    "    rowsNoCvd = len(dataNoCvd)    \n",
    "    rowsCvd = len(dataCvd)\n",
    "\n",
    "    fold_Cvd_total = rowsCvd//cv\n",
    "    fold_Cvd_residue= rowsCvd%cv\n",
    "#     print(\"fold_Cvd_total  :\",fold_Cvd_total,\" fold_Cvd_residue  :\",fold_Cvd_residue)\n",
    "\n",
    "    fold_NoCvd_total = rowsNoCvd//cv\n",
    "    fold_NoCvd_residue= rowsNoCvd%cv\n",
    "#     print(\"fold_NoCvd_total:\",fold_NoCvd_total,\"fold_NoCvd_residue:\",fold_NoCvd_residue)\n",
    "    \n",
    "    Cvd_val = round(504*val_ratio*(rowsCvd/len(data)))\n",
    "    noCvd_val = round(504*val_ratio)-Cvd_val\n",
    "#     print(noCvd_val)\n",
    "    \n",
    "    DownNoCvd=0\n",
    "    DownCvd=0\n",
    "    UpNoCvd = fold_NoCvd_total\n",
    "    UpCvd = fold_Cvd_total\n",
    "\n",
    "    for i in range(cv):\n",
    "        X_test = []\n",
    "        y_test = []\n",
    "        X_train = []\n",
    "        y_train = []\n",
    "        X_val = []\n",
    "        y_val = []\n",
    "#         print(\"============\",i,\"==============\")\n",
    "        DownNoCvd, UpNoCvd = find_NoCvd_limitsArray(i, DownNoCvd, UpNoCvd, fold_NoCvd_total, fold_NoCvd_residue)\n",
    "        DownCvd, UpCvd = find_Cvd_limitsArray(i, DownCvd, UpCvd, fold_Cvd_total, fold_Cvd_residue,cv)\n",
    "#         print(DownNoCvd,UpNoCvd,DownCvd,UpCvd)\n",
    "        testSubset_total = find_testValSubset(DownNoCvd,UpNoCvd,DownCvd,UpCvd,dataNoCvd,dataCvd)        \n",
    "        \n",
    "        if i!=9:\n",
    "        #όταν δεν είμαστε στο 10ο fold(ξεκινάμε από 0) παίρνουμε τα επόμενα 56 και 4 instaces για το validation set\n",
    "            validationSubset_total = find_testValSubset(UpNoCvd,UpNoCvd+noCvd_val,UpCvd,UpCvd+Cvd_val,dataNoCvd,dataCvd)\n",
    "            trainSubset_NoCvd ,trainSubset_Cvd ,trainSubset_total = find_trainSubset(DownNoCvd,UpNoCvd+noCvd_val,DownCvd,UpCvd+Cvd_val,dataNoCvd,dataCvd)\n",
    "        else:\n",
    "        #όταν είμαστε στο 10ο fold παίρνουμε τα προηγούμενα 56 και 4 instaces για το validation set\n",
    "#         DownNoCvd-noCvd_val,DownNoCvd,DownCvd-Cvd_val,DownCvd\n",
    "            validationSubset_total = find_testValSubset(0,noCvd_val,0,Cvd_val,dataNoCvd,dataCvd)\n",
    "#             print(DownNoCvd,UpNoCvd,DownCvd,UpCvd)\n",
    "            trainSubset_NoCvd ,trainSubset_Cvd ,trainSubset_total = find_trainSubset1(DownNoCvd,UpNoCvd,DownCvd,UpCvd,dataNoCvd,dataCvd)\n",
    "    \n",
    "    #creating X_train, y_train, X_test, y_test\n",
    "        X_test.append(np.delete(testSubset_total, f_size, axis=1))\n",
    "        y_test_temp = np.delete(testSubset_total, slice(0, f_size), axis=1)\n",
    "        y_test.append(np.reshape(y_test_temp, len(y_test_temp)))\n",
    "        X_test_temp = np.array(X_test)\n",
    "        X_test = X_test_temp[0]\n",
    "        y_test_temp = np.array(y_test)\n",
    "        y_test = y_test_temp[0]\n",
    "        \n",
    "        X_val.append(np.delete(validationSubset_total, f_size, axis=1))\n",
    "        y_val_temp = np.delete(validationSubset_total, slice(0, f_size), axis=1)\n",
    "        y_val.append(np.reshape(y_val_temp, len(y_val_temp)))\n",
    "        X_val_temp = np.array(X_val)\n",
    "        X_val = X_val_temp[0]\n",
    "        y_val_temp = np.array(y_val)\n",
    "        y_val = y_val_temp[0]\n",
    "        \n",
    "        X_train.append(np.delete(trainSubset_total, f_size, axis=1))\n",
    "        y_train_temp = np.delete(trainSubset_total, slice(0, f_size), axis=1)\n",
    "        y_train.append(np.reshape(y_train_temp, len(y_train_temp)))\n",
    "        X_train_temp = np.array(X_train)\n",
    "        X_train = X_train_temp[0]\n",
    "        y_train_temp = np.array(y_train)\n",
    "        y_train = y_train_temp[0]\n",
    "        \n",
    "    #add every subset in a list so we can handle thm later \n",
    "        test_total.append([X_test,y_test])\n",
    "        validation_total.append([X_val,y_val])\n",
    "        train_total.append([X_train,y_train]) \n",
    "        train_total_NoCvd.append(trainSubset_NoCvd)\n",
    "        train_total_Cvd.append(trainSubset_Cvd)\n",
    "    return train_total, test_total, validation_total, train_total_NoCvd, train_total_Cvd"
   ]
  },
  {
   "cell_type": "code",
   "execution_count": 8,
   "metadata": {},
   "outputs": [],
   "source": [
    "# def create_train_test_sets(f_size,cv,dataNoCvd,dataCvd,val_ratio):\n",
    "#     # cv= αριθμός των folds, κάνω 10-fold cross validation γιαυτό το έχω θέσει 10\n",
    "#     # val_ratio= το ποσοστό του training set που θα γίνει validation set, το έβαλα 10%\n",
    "#     test_total = []\n",
    "#     train_total = []\n",
    "#     train_total_Cvd = []\n",
    "#     train_total_NoCvd = []\n",
    "#     validation_total = []\n",
    "    \n",
    "#     #στόχος είναι να χωρίσουμε τα δεδομένα σε 10 folds με ποσοστό instances με cvd περιπου 7%, το 1 fold θα                                \n",
    "#     #χρησιμοποιείται για test και τα άλλα 9 θα ενωνονται και θα χρησιμοποιούνται για train-validation\n",
    "    \n",
    "#     rowsNoCvd = len(dataNoCvd)    # βρίσκω τον αριθμό των instances χωρίς cvd\n",
    "#     rowsCvd = len(dataCvd)        # βρίσκω τον αριθμό των instances με cvd\n",
    "\n",
    "#     #fold_Cvd_total = αριθμός των instances με cvd που θα μπουν  σίγουρα στο 1 fold = 4\n",
    "#     fold_Cvd_total = rowsCvd//cv \n",
    "#     #fold_Cvd_residue = το υπόλοιπο των instances που πρέπει να το μοιράσουμε στα 10 folds, δηλαδη κάποια \n",
    "#     #θα έχουν ένα instance με cvd παραπάνω = 1\n",
    "#     fold_Cvd_residue= rowsCvd%cv\n",
    "# #     print(\"fold_Cvd_total  :\",fold_Cvd_total,\" fold_Cvd_residue  :\",fold_Cvd_residue)\n",
    "\n",
    "#     #fold_NoCvd_total = αριθμός των instances χωρίς cvd που θα μπουν  σίγουρα στο 1 fold = 51\n",
    "#     fold_NoCvd_total = rowsNoCvd//cv\n",
    "#     #fold_NoCvd_residue = το υπόλοιπο των instances που πρέπει να το μοιράσουμε στα 10 folds, δηλαδη κάποια \n",
    "#     #θα έχουν ένα instance χωρίς cvd παραπάνω = 9\n",
    "#     fold_NoCvd_residue= rowsNoCvd%cv\n",
    "# #     print(\"fold_NoCvd_total:\",fold_NoCvd_total,\"fold_NoCvd_residue:\",fold_NoCvd_residue)\n",
    "    \n",
    "#     #Cvd_val= αριθμός instances με cvd που θα μπει στο validation set,το train set αποτελείται από 504 instances  \n",
    "#     #από αυτά το 7% είναι cvd, εμείς από το 7% θα πάρουμε το 10% για το validatio set\n",
    "#     Cvd_val = round(504*val_ratio*(rowsCvd/len(data)))\n",
    "#     #504*val_ratio= ο συνολικός αριθμός των instances  με του validation set, άρα αν από αυτόν αφαιρέσουμε \n",
    "#     #το Cvd_val θα πάρουμε των αριθμό των instances χωρίς cvd που θα μπουν στο validation set\n",
    "#     noCvd_val = round(504*val_ratio)-Cvd_val\n",
    "    \n",
    "#     #dataNoCvd= [0 1 2 .... 517 518] αυτοί είναι οι δείκτες του πίνακα με όλα τα NoCvd instances, τα  DownNoCvd και\n",
    "#     # UpNoCvd θα είναι οι δείκτες στους οποίους θα γίνεται το χώρισμα του πίνακα dataNoCvd κάθε φορά προκειμένου\n",
    "#     # να πάρουμε ένα fold, DownNoCvd=κάτω όριο, UpNoCvd= πάνω όριο, ξεκινάμε με DownNoCvd=0(από την αρχή του πίνακα)\n",
    "#     # UpNoCvd = fold_NoCvd_total(αριθμός NoCvd instances που θα μπουν σίγουρα στο fold)\n",
    "#     #\n",
    "#     #dataCvd= [0 1 2.. 39 40] δείκτες του πίνακα dataCvd, με την ίδια λογική με πριν DownCvd=0=κάτω όριο-δείκτης\n",
    "#     # UpCvd= άνω όριο-δείκτης=fold_Cvd_total(αριθμός Cvd instances που θα μπουν σίγουρα στο fold)\n",
    "#     DownNoCvd=0\n",
    "#     DownCvd=0\n",
    "#     UpNoCvd = fold_NoCvd_total\n",
    "#     UpCvd = fold_Cvd_total\n",
    "#     #τα όρια αυτά θα αλλάξουν 10 φορές, όσα είναι και τα fold \n",
    "    \n",
    "#     for i in range(cv):\n",
    "#         X_test = []\n",
    "#         y_test = []\n",
    "#         X_train = []\n",
    "#         y_train = []\n",
    "#         X_val = []\n",
    "#         y_val = []\n",
    "        \n",
    "#         #find_NoCvd_limitsArray = βρίσκει τα όρια του dataNoCvd πίνακα για το i fold\n",
    "#         DownNoCvd, UpNoCvd = find_NoCvd_limitsArray(i, DownNoCvd, UpNoCvd, fold_NoCvd_total, fold_NoCvd_residue)\n",
    "#         #find_Cvd_limitsArray = βρίσκει τα όρια του dataCvd πίνακα για το i fold\n",
    "#         DownCvd, UpCvd = find_Cvd_limitsArray(i, DownCvd, UpCvd, fold_Cvd_total, fold_Cvd_residue,cv)\n",
    "\n",
    "#         #find_testValSubset = επιστρέφει τον πίκακα test για το i-fold\n",
    "#         testSubset_total = find_testValSubset(DownNoCvd,UpNoCvd,DownCvd,UpCvd,dataNoCvd,dataCvd)        \n",
    "        \n",
    "#         if i!=9:\n",
    "#         #όταν δεν είμαστε στο 10ο fold(ξεκινάμε από 0) παίρνουμε τα επόμενα 56 και 4 instaces για το validation set\n",
    "#             validationSubset_total = find_testValSubset(UpNoCvd,UpNoCvd+noCvd_val,UpCvd,UpCvd+Cvd_val,dataNoCvd,dataCvd)\n",
    "#             trainSubset_NoCvd ,trainSubset_Cvd ,trainSubset_total = find_trainSubset(DownNoCvd,UpNoCvd+noCvd_val,DownCvd,UpCvd+Cvd_val,dataNoCvd,dataCvd)\n",
    "#         else:\n",
    "#         #όταν είμαστε στο 10ο fold παίρνουμε τα προηγούμενα 56 και 4 instaces για το validation set\n",
    "# #         DownNoCvd-noCvd_val,DownNoCvd,DownCvd-Cvd_val,DownCvd\n",
    "#             validationSubset_total = find_testValSubset(0,noCvd_val,0,Cvd_val,dataNoCvd,dataCvd)\n",
    "# #             print(DownNoCvd,UpNoCvd,DownCvd,UpCvd)\n",
    "#             trainSubset_NoCvd ,trainSubset_Cvd ,trainSubset_total = find_trainSubset1(DownNoCvd,UpNoCvd,DownCvd,UpCvd,dataNoCvd,dataCvd)\n",
    "    \n",
    "#     #creating X_train, y_train, X_test, y_test\n",
    "#         #για να δημιουργήσω το X_test αφαιρώ απλά την τελευταία στήλη\n",
    "#         X_test.append(np.delete(testSubset_total, f_size, axis=1))\n",
    "#         y_test_temp = np.delete(testSubset_total, slice(0, f_size), axis=1)\n",
    "#         #για το y_test κρατάω μόνο την τελευταία στήλη \n",
    "#         y_test.append(np.reshape(y_test_temp, len(y_test_temp)))\n",
    "#         #οι ακόλουθες γραμμές κώδικα είναι για να φέρω τα X_test και y_test στην μορφή πίνακα που θέλω\n",
    "#         X_test_temp = np.array(X_test)\n",
    "#         X_test = X_test_temp[0]\n",
    "#         y_test_temp = np.array(y_test)\n",
    "#         y_test = y_test_temp[0]\n",
    "        \n",
    "#         #για να δημιουργήσω το X_val αφαιρώ απλά την τελευταία στήλη\n",
    "#         X_val.append(np.delete(validationSubset_total, f_size, axis=1))\n",
    "#         y_val_temp = np.delete(validationSubset_total, slice(0, f_size), axis=1)\n",
    "#         #για το y_val κρατάω μόνο την τελευταία στήλη \n",
    "#         y_val.append(np.reshape(y_val_temp, len(y_val_temp)))\n",
    "#         X_val_temp = np.array(X_val)\n",
    "#         X_val = X_val_temp[0]\n",
    "#         y_val_temp = np.array(y_val)\n",
    "#         y_val = y_val_temp[0]\n",
    "        \n",
    "#         #για να δημιουργήσω το X_train αφαιρώ απλά την τελευταία στήλη\n",
    "#         X_train.append(np.delete(trainSubset_total, f_size, axis=1))\n",
    "#         y_train_temp = np.delete(trainSubset_total, slice(0, f_size), axis=1)\n",
    "#         #για το y_train κρατάω μόνο την τελευταία στήλη \n",
    "#         y_train.append(np.reshape(y_train_temp, len(y_train_temp)))\n",
    "#         X_train_temp = np.array(X_train)\n",
    "#         X_train = X_train_temp[0]\n",
    "#         y_train_temp = np.array(y_train)\n",
    "#         y_train = y_train_temp[0]\n",
    "        \n",
    "#     #αποθηκεύω τα X_test,y_test στον πίνακα test_total οπότε στην i-οστή θέση θα είναι τα X_test,y_test για το i fold \n",
    "#     #το ίδιο κάνω και με τους πίνακες validation_total και train_total\n",
    "#         test_total.append([X_test,y_test])\n",
    "#         validation_total.append([X_val,y_val])\n",
    "#         train_total.append([X_train,y_train]) \n",
    "#     #train_total_NoCvd:αποθηκεύω τα instances χωρίς Cvd πουθα χρησιμοποιηθούν για training όταν θα είμαστε στο i-fold\n",
    "#         train_total_NoCvd.append(trainSubset_NoCvd)\n",
    "#     #train_total_Cvd:αποθηκεύω τα instances με Cvd πουθα χρησιμοποιηθούν για training όταν θα είμαστε στο i-fold\n",
    "#         train_total_Cvd.append(trainSubset_Cvd)\n",
    "#     return train_total, test_total, validation_total, train_total_NoCvd, train_total_Cvd"
   ]
  },
  {
   "cell_type": "code",
   "execution_count": 9,
   "metadata": {},
   "outputs": [],
   "source": [
    "train_total, test_total, validation_total, train_total_NoCvd, train_total_Cvd = create_train_test_sets(f_size,10,dataNoCvd,dataCvd,0.1)"
   ]
  },
  {
   "cell_type": "code",
   "execution_count": 10,
   "metadata": {
    "scrolled": true
   },
   "outputs": [
    {
     "name": "stdout",
     "output_type": "stream",
     "text": [
      "454\n",
      "ratio in train set: 0.07268722466960352\n",
      "ratio in test set: 0.07142857142857142\n",
      "ratio in validation set: 0.08\n",
      "454\n",
      "ratio in train set: 0.07268722466960352\n",
      "ratio in test set: 0.07142857142857142\n",
      "ratio in validation set: 0.08\n",
      "454\n",
      "ratio in train set: 0.07268722466960352\n",
      "ratio in test set: 0.07142857142857142\n",
      "ratio in validation set: 0.08\n",
      "454\n",
      "ratio in train set: 0.07268722466960352\n",
      "ratio in test set: 0.07142857142857142\n",
      "ratio in validation set: 0.08\n",
      "454\n",
      "ratio in train set: 0.07268722466960352\n",
      "ratio in test set: 0.07142857142857142\n",
      "ratio in validation set: 0.08\n",
      "454\n",
      "ratio in train set: 0.07268722466960352\n",
      "ratio in test set: 0.07142857142857142\n",
      "ratio in validation set: 0.08\n",
      "454\n",
      "ratio in train set: 0.07268722466960352\n",
      "ratio in test set: 0.07142857142857142\n",
      "ratio in validation set: 0.08\n",
      "454\n",
      "ratio in train set: 0.07268722466960352\n",
      "ratio in test set: 0.07142857142857142\n",
      "ratio in validation set: 0.08\n",
      "454\n",
      "ratio in train set: 0.07268722466960352\n",
      "ratio in test set: 0.07142857142857142\n",
      "ratio in validation set: 0.08\n",
      "454\n",
      "ratio in train set: 0.07048458149779736\n",
      "ratio in test set: 0.08928571428571429\n",
      "ratio in validation set: 0.08\n"
     ]
    }
   ],
   "source": [
    "# Chech ratio in each train and test set\n",
    "def find_ratio(index_list):\n",
    "    one = 0\n",
    "    lenght=len(index_list[0])\n",
    "    for i in range(lenght):\n",
    "#         print(index_list[1])\n",
    "        if index_list[1][i] == 1.0 :\n",
    "            one+= 1\n",
    "    ratio = one/lenght\n",
    "    return ratio\n",
    "\n",
    "for i in range(10):\n",
    "    print(len(train_total[i][0]))\n",
    "    ratio = find_ratio(train_total[i])\n",
    "    print(\"ratio in train set:\", ratio)\n",
    "    ratio = find_ratio(test_total[i])\n",
    "    print(\"ratio in test set:\", ratio)\n",
    "    ratio = find_ratio(validation_total[i])\n",
    "    print(\"ratio in validation set:\", ratio)"
   ]
  },
  {
   "cell_type": "code",
   "execution_count": 11,
   "metadata": {},
   "outputs": [],
   "source": [
    "from xgboost import XGBClassifier\n",
    "\n",
    "\n",
    "def my_fit(f_size,ratio,dataNoCvd,dataCvd, validation_total, params):   \n",
    "    Subarray=[]\n",
    "    models = []\n",
    "    # yarray\n",
    "    \n",
    "    rowsNoCvd = len(dataNoCvd)    \n",
    "    rowsCvd = len(dataCvd)\n",
    "#     print(\"Size of NoCvd cases in train set:\",rowsNoCvd)\n",
    "#     print(\"Size of Cvd cases in train set  :\",rowsCvd)\n",
    "\n",
    "\n",
    "    numOfSubsamples = rowsNoCvd//(rowsCvd*ratio)\n",
    "    numOfSubsamples= int(numOfSubsamples)\n",
    "    SubNoCvd = rowsNoCvd//numOfSubsamples\n",
    "    residue = rowsNoCvd- SubNoCvd*numOfSubsamples\n",
    "\n",
    "\n",
    "    Up = 0\n",
    "\n",
    "\n",
    "    for i in range(numOfSubsamples):\n",
    "        \n",
    "        classifier = XGBClassifier(base_score=0.5, booster='gbtree', colsample_bylevel=params[5],\n",
    "                  colsample_bynode=1, colsample_bytree=params[8], gamma=params[4],\n",
    "                  learning_rate=params[0], max_delta_step=0, max_depth=params[1],\n",
    "                  min_child_weight=params[3], missing=None, n_estimators=params[2], n_jobs=1,\n",
    "                  nthread=None, objective='binary:logistic', random_state=0,\n",
    "                  reg_alpha=params[9], reg_lambda=params[6], scale_pos_weight=params[7], seed=None,\n",
    "                  silent=None, subsample=params[10], verbosity=1)\n",
    "        \n",
    "#         classifier = XGBClassifier()\n",
    "    #     print(i)\n",
    "    #Creating the training set for each model\n",
    "        Down = Up\n",
    "        Up= Up + SubNoCvd\n",
    "        if i < residue :\n",
    "            Up+= 1\n",
    "        \n",
    "#         print(Down)\n",
    "#         print(Up)\n",
    "        \n",
    "        Sub1=dataNoCvd[Down:Up,:]\n",
    "        Sub2=np.concatenate((Sub1, dataCvd))\n",
    "        Subarray.append(Sub2)\n",
    "        \n",
    "    #Dividing to X and y of the previous traing set    \n",
    "        X=np.delete(Subarray[i], f_size, axis=1)\n",
    "        y=np.delete(Subarray[i], slice(0, f_size), axis=1)\n",
    "        y=np.reshape(y, len(y))\n",
    "        \n",
    "        \n",
    "        X_val = validation_total[i][0]\n",
    "        y_val = validation_total[i][1]\n",
    "        \n",
    "        eval_set  = [(X,y), (X_val,y_val)]\n",
    "        \n",
    "        classifier.fit( X, y, eval_set=eval_set, eval_metric=\"auc\", early_stopping_rounds=50,verbose = False)\n",
    "        \n",
    "        models.append(classifier)\n",
    "    return models "
   ]
  },
  {
   "cell_type": "code",
   "execution_count": 12,
   "metadata": {},
   "outputs": [],
   "source": [
    "\n",
    "\n",
    "def predict_unweighted_average(models,X):\n",
    "    y_pred = []\n",
    "    y_pred_models = []\n",
    "\n",
    "    models_size = len(models)\n",
    "    X_size = len(X)\n",
    "       \n",
    "    #βρίσκω και αποθηκευω τα predictions κάθε μοντέλου για το Χ_test όχι όμως με την μορφή (0,1) όπως θα έκανε η\n",
    "# predict αλλά με μορφή πιθανότητας να έρθει 1 με την predict_proba, δηλαδή τώρα ο πίνακας y_pred_models έχει τις \n",
    "# πιθανότητες κάθε περίπτωση του X_test να εμφανίσει Cvd\n",
    "    for i in range(models_size): \n",
    "        y_pred_models.append(models[i].predict_proba(X)[:,1]) \n",
    "\n",
    "#Παίρνω τις πιθανότητες κάθε μοντέλου και για κάθε μία περίπτωση του X_test κάνω το average των πιθανοτήτων αυτών\n",
    "# οπότε βγαίνει μια μέση πιθανότητα για κάθε μία περίπτωση του X_test.\n",
    "    for j in range(X_size):\n",
    "        sum = 0\n",
    "        for i in range(models_size):\n",
    "            sum = sum + y_pred_models[i][j]\n",
    "        avr = sum/models_size\n",
    "        if avr>= 0.5 :         #Όμως επειδή θεωρώ ότι το μοντέλο κάνει classification αν η μέση πιθανότητα \n",
    "            y_pred.append(1.)  # είναι μεγαλυτερη από 0.5 τότε θα επιστρέφει 1, δηλαδή ότι έχει cvd, αλλιώς 0\n",
    "        else:\n",
    "            y_pred.append(0.)\n",
    "    return y_pred     \n",
    "  "
   ]
  },
  {
   "cell_type": "code",
   "execution_count": 13,
   "metadata": {},
   "outputs": [],
   "source": [
    "def predict_unweighted_average(models,X):\n",
    "    y_pred = []\n",
    "    y_pred_models = []\n",
    "\n",
    "    models_size = len(models)\n",
    "    X_size = len(X)\n",
    "       \n",
    "    #βρίσκω και αποθηκευω τα predictions κάθε μοντέλου για το Χ_test όχι όμως με την μορφή (0,1) όπως θα έκανε η\n",
    "# predict αλλά με μορφή πιθανότητας να έρθει 1 με την predict_proba, δηλαδή τώρα ο πίνακας y_pred_models έχει τις \n",
    "# πιθανότητες κάθε περίπτωση του X_test να εμφανίσει Cvd\n",
    "    for i in range(models_size): \n",
    "        y_pred_models.append(models[i].predict(X,output_margin=True))\n",
    "    \n",
    "#Παίρνω τις πιθανότητες κάθε μοντέλου και για κάθε μία περίπτωση του X_test κάνω το average των πιθανοτήτων αυτών\n",
    "# οπότε βγαίνει μια μέση πιθανότητα για κάθε μία περίπτωση του X_test.\n",
    "    for j in range(X_size):\n",
    "        sum = 0\n",
    "        for i in range(models_size):\n",
    "            sum = sum + y_pred_models[i][j]\n",
    "        avr = sum/models_size\n",
    "        if avr>= 0 :         #Όμως επειδή θεωρώ ότι το μοντέλο κάνει classification αν η μέση πιθανότητα \n",
    "            y_pred.append(1.)  # είναι μεγαλυτερη από 0.5 τότε θα επιστρέφει 1, δηλαδή ότι έχει cvd, αλλιώς 0\n",
    "        else:\n",
    "            y_pred.append(0.)\n",
    "    return y_pred     "
   ]
  },
  {
   "cell_type": "code",
   "execution_count": 14,
   "metadata": {},
   "outputs": [
    {
     "name": "stdout",
     "output_type": "stream",
     "text": [
      "Hell yeah\n",
      "('oo', 4)\n",
      "{'ss': 2, 'pp': 1, 'oo': 4}\n",
      "OrderedDict([('pp', 1), ('ss', 2)])\n"
     ]
    }
   ],
   "source": [
    "from collections import OrderedDict\n",
    "\n",
    "k= {\"ss\":2,\"pp\":1,\"oo\":4}\n",
    "ok = OrderedDict(sorted(k.items(), key=lambda x: x[1]))\n",
    "lala= ok.popitem()\n",
    "if lala[0] == 'oo':\n",
    "    print(\"Hell yeah\")\n",
    "print(lala)\n",
    "print(k)\n",
    "print(ok)\n",
    "\n",
    "# if k.get(\"o\")!= None:\n",
    "#     print(0)\n",
    "# print(k.get(\"sp\"))\n",
    "l= {\"ss\":0,\"pp\":0}\n",
    "l.update({\"ss\": k.get(\"ss\")+l.get(\"ss\")})\n",
    "# print(l)\n"
   ]
  },
  {
   "cell_type": "code",
   "execution_count": 15,
   "metadata": {},
   "outputs": [],
   "source": [
    "# https://towardsdatascience.com/train-test-split-and-cross-validation-in-python-80b61beca4b6\n",
    "\n",
    "from sklearn.metrics import  confusion_matrix,roc_curve, roc_auc_score, accuracy_score\n",
    "from imxgboost.imbalance_xgb import imbalance_xgboost as imb_xgb\n",
    "from sklearn.model_selection import StratifiedKFold # import KFold\n",
    "from sklearn import metrics\n",
    "from xgboost import plot_importance\n",
    "from matplotlib import pyplot\n",
    "from xgboost import XGBClassifier\n",
    "from collections import OrderedDict\n",
    "from boostaroota import BoostARoota\n",
    "import pandas as pd\n",
    "\n",
    "\n",
    "def my_cross_val(f_size, cv, train_total, test_total, validation_total, train_total_NoCvd, train_total_Cvd,params,idx_aver,idx_vot,first_time):\n",
    "    accuracy = []\n",
    "    specificity = []\n",
    "    sensitivity = []\n",
    "    auc = []\n",
    "    # print(X)\n",
    "    for i in range(cv):\n",
    "#         X_train = train_total[i][0]\n",
    "#         y_train = train_total[i][1]\n",
    "        X_test = test_total[i][0]\n",
    "        y_test = test_total[i][1]\n",
    "        \n",
    "\n",
    "\n",
    "        models = my_fit(f_size, 2, train_total_NoCvd[i], train_total_Cvd[i],validation_total,params)\n",
    "        \n",
    "\n",
    "        y_pred = predict_unweighted_average(models,X_test)\n",
    "\n",
    "        cm = confusion_matrix(y_test, y_pred)\n",
    "    #     print(cm)\n",
    "\n",
    "        total1=sum(sum(cm))\n",
    "        #####from confusion matrix calculate accuracy\n",
    "        accuracy1=(cm[0,0]+cm[1,1])/total1\n",
    "    #   print ('Accuracy : ', accuracy1)\n",
    "\n",
    "        specificity1 = cm[0,0]/(cm[0,0]+cm[0,1])\n",
    "    #   print('Specificity : ', specificity1 )\n",
    "\n",
    "        sensitivity1 = cm[1,1]/(cm[1,0]+cm[1,1])\n",
    "    #   print('Sensitivity : ', sensitivity1)\n",
    "        \n",
    "#         y = np.array(y_test)\n",
    "#         pred = np.array(y_pred)\n",
    "#         fpr, tpr, thresholds = metrics.roc_curve(y, pred, pos_label=2)\n",
    "#         auc1 = metrics.auc(fpr, tpr)\n",
    "        \n",
    "        auc1 = roc_auc_score(y_test, y_pred)\n",
    "\n",
    "    \n",
    "        accuracy.append(accuracy1)\n",
    "        specificity.append(specificity1)\n",
    "        sensitivity.append(sensitivity1) \n",
    "        auc.append(auc1)\n",
    "    if first_time: \n",
    "        importancies_av = [[0,0],[0,1],[0,2],[0,3],[0,4],[0,5],[0,6],[0,7],[0,8],[0,9],[0,10],[0,11],[0,12],[0,13],[0,14],[0,15]]\n",
    "        importancies_vot = [[0,0],[0,1],[0,2],[0,3],[0,4],[0,5],[0,6],[0,7],[0,8],[0,9],[0,10],[0,11],[0,12],[0,13],[0,14],[0,15]]\n",
    "        times_used    = [0,0,0,0,0,0,0,0,0,0,0,0,0,0,0,0]\n",
    "        for j in range(len(models)):\n",
    "    #         print(models[j].feature_importances_)\n",
    "    \n",
    "            # plot!!!!!!!!!!!!!!!!!!!!!!!!!!!\n",
    "#             pyplot.bar(range(len(models[j].feature_importances_)), models[j].feature_importances_)\n",
    "    #         pyplot.show()\n",
    "    #         models[j].get_score(importance_type='gain')\n",
    "    \n",
    "#             PLOOOTTTT\n",
    "#             plot_importance(models[j],importance_type='weight')\n",
    "            p =models[j].get_booster().get_score(importance_type=\"weight\")\n",
    "    #         print(p)\n",
    "\n",
    "            importancies_av,times_used = importances_average(p,importancies_av,times_used)\n",
    "            importancies_vot = importances_voting(p,importancies_vot)\n",
    "            importancies_vot.sort(key=lambda tup: tup[0],reverse=True)\n",
    "    #         plot_importance(models[j], max_num_features=16)\n",
    "    #         plot_importance(models[j],importance_type='weight')\n",
    "    #         pyplot.show()\n",
    "        for i in range(len(importancies_av)):\n",
    "            if times_used[i] != 0:\n",
    "    #             importancies_av[i][0] = importancies_av[i][0]/times_used[i]\n",
    "                importancies_av[i][0] = importancies_av[i][0]/6\n",
    "    #         print(importancies[i])\n",
    "\n",
    "\n",
    "        importancies_av.sort(key=lambda tup: tup[0],reverse=True)\n",
    "        most_important_av = list()\n",
    "        most_important_vot = list()\n",
    "        for i in range(f_size):\n",
    "            most_important_av.append(importancies_av[i])\n",
    "            idx_aver.append(most_important_av[i][1])\n",
    "            most_important_vot.append(importancies_vot[i])\n",
    "            idx_vot.append(most_important_vot[i][1])\n",
    "        idx_aver.append(16)\n",
    "        idx_vot.append(16)\n",
    "#         print(most_important_av)\n",
    "#         print(most_important_vot)\n",
    "\n",
    "    return accuracy, specificity, sensitivity, auc, idx_aver, idx_vot\n",
    "\n"
   ]
  },
  {
   "cell_type": "code",
   "execution_count": 16,
   "metadata": {},
   "outputs": [],
   "source": [
    "def importances_voting(p,importancies):\n",
    "    op = OrderedDict(sorted(p.items(), key=lambda x: x[1]))\n",
    "    for ii in range(8):\n",
    "#         print(op)\n",
    "        f = op.popitem()\n",
    "#         print(f)\n",
    "        if f[0] == 'f0':\n",
    "            importancies[0][0] += 1\n",
    "        if f[0] == 'f1':\n",
    "            importancies[1][0] += 1\n",
    "        if f[0] == 'f2':\n",
    "            importancies[2][0] += 1\n",
    "        if f[0] == 'f3':\n",
    "            importancies[3][0] += 1\n",
    "        if f[0] == 'f4':\n",
    "            importancies[4][0] += 1\n",
    "        if f[0] == 'f5':\n",
    "            importancies[5][0] += 1\n",
    "        if f[0] == 'f6':\n",
    "            importancies[6][0] += 1\n",
    "        if f[0] == 'f7':\n",
    "            importancies[7][0] += 1\n",
    "        if f[0] == 'f8':\n",
    "            importancies[8][0] += 1\n",
    "        if f[0] == 'f9':\n",
    "            importancies[9][0] += 1\n",
    "        if f[0] == 'f10':\n",
    "            importancies[10][0] += 1\n",
    "        if f[0] == 'f11':\n",
    "            importancies[11][0] += 1\n",
    "        if f[0] == 'f12':\n",
    "            importancies[12][0] += 1\n",
    "        if f[0] == 'f13':\n",
    "            importancies[13][0] += 1\n",
    "        if f[0] == 'f14':\n",
    "            importancies[14][0] += 1\n",
    "        if f[0] == 'f15':\n",
    "            importancies[15][0] += 1\n",
    "    return importancies\n",
    "        "
   ]
  },
  {
   "cell_type": "code",
   "execution_count": 17,
   "metadata": {},
   "outputs": [],
   "source": [
    "def importances_average(p,importancies,times_used):\n",
    "        if p.get(\"f0\")!= None:\n",
    "            importancies[0][0] += p.get(\"f0\")\n",
    "            times_used[0] += 1\n",
    "        if p.get(\"f1\")!= None:\n",
    "            importancies[1][0] += p.get(\"f1\")\n",
    "            times_used[1] += 1\n",
    "        if p.get(\"f2\")!= None:\n",
    "            importancies[2][0] += p.get(\"f2\")\n",
    "            times_used[2] += 1\n",
    "        if p.get(\"f3\")!= None:\n",
    "            importancies[3][0] += p.get(\"f3\")\n",
    "            times_used[3] += 1\n",
    "        if p.get(\"f4\")!= None:\n",
    "            importancies[4][0] += p.get(\"f4\")\n",
    "            times_used[4] += 1\n",
    "        if p.get(\"f5\")!= None:\n",
    "            importancies[5][0] += p.get(\"f5\")\n",
    "            times_used[5] += 1\n",
    "        if p.get(\"f6\")!= None:\n",
    "            importancies[6][0] += p.get(\"f6\")\n",
    "            times_used[6] += 1\n",
    "        if p.get(\"f7\")!= None:\n",
    "            importancies[7][0] += p.get(\"f7\")\n",
    "            times_used[7] += 1\n",
    "        if p.get(\"f8\")!= None:\n",
    "            importancies[8][0] += p.get(\"f8\")\n",
    "            times_used[8] += 1\n",
    "        if p.get(\"f9\")!= None:\n",
    "            importancies[9][0] += p.get(\"f9\")\n",
    "            times_used[9] += 1\n",
    "        if p.get(\"f10\")!= None:\n",
    "            importancies[10][0] += p.get(\"f10\")\n",
    "            times_used[10] += 1\n",
    "        if p.get(\"f11\")!= None:\n",
    "            importancies[11][0] += p.get(\"f11\")\n",
    "            times_used[11] += 1\n",
    "        if p.get(\"f12\")!= None:\n",
    "            importancies[12][0] += p.get(\"f12\")\n",
    "            times_used[12] += 1\n",
    "        if p.get(\"f13\")!= None:\n",
    "            importancies[13][0] += p.get(\"f13\")\n",
    "            times_used[13] += 1\n",
    "        if p.get(\"f14\")!= None:\n",
    "            importancies[14][0] += p.get(\"f14\")\n",
    "            times_used[14] += 1\n",
    "        if p.get(\"f15\")!= None:\n",
    "            importancies[15][0] += p.get(\"f15\")\n",
    "            times_used[15] += 1\n",
    "        return importancies,times_used"
   ]
  },
  {
   "cell_type": "code",
   "execution_count": 18,
   "metadata": {},
   "outputs": [],
   "source": [
    "# https://www.analyticsvidhya.com/blog/2016/03/complete-guide-parameter-tuning-xgboost-with-codes-python/        \n",
    "\n",
    "params = {\n",
    "                    \"learning_rate\"    :[0.3],  #0.01-0.2 Makes the model more robust by shrinking the weights on each step\n",
    "                    \"max_depth\"        :[2],  #3-10 control over-fitting as higher depth will allow model to learn relations very specific to a particular sample\n",
    "                    \"n_estimators\"     :[200],\n",
    "                    \"min_child_weight\" :[2],         #0.5-1 small values might lead to under-fitting\n",
    "                    \"gamma\"            :[0],            #Makes the algorithm conservative --> No overfitting\n",
    "                    \"colsample_bylevel\" :[0.75], #0.5-1\n",
    "                     \"reg_lambda\"      :[2], #  it should be explored to reduce overfitting.\n",
    "                    \"scale_pos_weight\" :[5],\n",
    "                    \"colsample_bytree\" :[0.75],\n",
    "                    \"reg_alpha\"        :[0.2],\n",
    "                    \"subsample\"        :[0.8]\n",
    "    \n",
    "        }\n",
    "# parameters : [0.4, 2, 100, 2, 0.5, 0.5, 1, 4, 0.75, 0.1, 0.8]\n",
    "# accuracy : 0.6964285714285714\n",
    "# spes     : 0.6976998491704374\n",
    "# sens     : 0.685\n",
    "# auc      : 0.6913499245852187\n",
    "    \n",
    "# parameters : [0.3, 2, 200, 2, 0, 0.75, 2, 5, 0.75, 0.2, 0.8]\n",
    "# accuracy : 0.6892857142857143\n",
    "# spes     : 0.6899698340874811\n",
    "# sens     : 0.69\n",
    "# auc      : 0.6899849170437405\n"
   ]
  },
  {
   "cell_type": "code",
   "execution_count": 120,
   "metadata": {},
   "outputs": [
    {
     "ename": "NameError",
     "evalue": "name 'idx_aver' is not defined",
     "output_type": "error",
     "traceback": [
      "\u001b[0;31m---------------------------------------------------------------------------\u001b[0m",
      "\u001b[0;31mNameError\u001b[0m                                 Traceback (most recent call last)",
      "\u001b[0;32m<ipython-input-120-f2fad154c1f7>\u001b[0m in \u001b[0;36m<module>\u001b[0;34m\u001b[0m\n\u001b[0;32m----> 1\u001b[0;31m \u001b[0mprint\u001b[0m\u001b[0;34m(\u001b[0m\u001b[0midx_aver\u001b[0m\u001b[0;34m)\u001b[0m\u001b[0;34m\u001b[0m\u001b[0;34m\u001b[0m\u001b[0m\n\u001b[0m",
      "\u001b[0;31mNameError\u001b[0m: name 'idx_aver' is not defined"
     ]
    }
   ],
   "source": [
    "print(idx_aver)"
   ]
  },
  {
   "cell_type": "code",
   "execution_count": 414,
   "metadata": {},
   "outputs": [
    {
     "name": "stdout",
     "output_type": "stream",
     "text": [
      "[]\n"
     ]
    }
   ],
   "source": [
    "print(idx_aver)"
   ]
  },
  {
   "cell_type": "code",
   "execution_count": 415,
   "metadata": {
    "scrolled": true
   },
   "outputs": [
    {
     "name": "stdout",
     "output_type": "stream",
     "text": [
      "[0.3, 2, 200, 2, 0, 0.75, 2, 5, 0.75, 0.2, 0.8]\n",
      "[[63.5, 14], [58.333333333333336, 11], [57.5, 3], [56.833333333333336, 13], [49.833333333333336, 15], [43.166666666666664, 1], [42.666666666666664, 2], [36.166666666666664, 12], [26.666666666666668, 10], [16.166666666666668, 5], [9.333333333333334, 6], [8.666666666666666, 0], [7.166666666666667, 4], [6.666666666666667, 8], [1.0, 7], [1.0, 9]]\n",
      "[[5, 3], [5, 2], [5, 1], [4, 11], [3, 5], [3, 12], [3, 14], [3, 15], [3, 6], [2, 9], [2, 10], [2, 7], [2, 8], [2, 0], [2, 4], [2, 13]]\n"
     ]
    },
    {
     "data": {
      "image/png": "[encoded data removed]",
      "text/plain": [
       "<Figure size 432x288 with 1 Axes>"
      ]
     },
     "metadata": {
      "needs_background": "light"
     },
     "output_type": "display_data"
    },
    {
     "data": {
      "image/png": "[encoded data removed]",
      "text/plain": [
       "<Figure size 432x288 with 1 Axes>"
      ]
     },
     "metadata": {
      "needs_background": "light"
     },
     "output_type": "display_data"
    },
    {
     "data": {
      "image/png": "[encoded data removed]",
      "text/plain": [
       "<Figure size 432x288 with 1 Axes>"
      ]
     },
     "metadata": {
      "needs_background": "light"
     },
     "output_type": "display_data"
    },
    {
     "data": {
      "image/png": "[encoded data removed]",
      "text/plain": [
       "<Figure size 432x288 with 1 Axes>"
      ]
     },
     "metadata": {
      "needs_background": "light"
     },
     "output_type": "display_data"
    },
    {
     "data": {
      "image/png": "[encoded data removed]",
      "text/plain": [
       "<Figure size 432x288 with 1 Axes>"
      ]
     },
     "metadata": {
      "needs_background": "light"
     },
     "output_type": "display_data"
    },
    {
     "data": {
      "image/png": "[encoded data removed]",
      "text/plain": [
       "<Figure size 432x288 with 1 Axes>"
      ]
     },
     "metadata": {
      "needs_background": "light"
     },
     "output_type": "display_data"
    },
    {
     "data": {
      "image/png": "[encoded data removed]",
      "text/plain": [
       "<Figure size 432x288 with 1 Axes>"
      ]
     },
     "metadata": {
      "needs_background": "light"
     },
     "output_type": "display_data"
    }
   ],
   "source": [
    "first_time = True\n",
    "comb = compute_comb(params)\n",
    "print(comb[0])\n",
    "idx_aver = []\n",
    "idx_vot = []\n",
    "accuracy, specificity, sensitivity, auc = my_cross_val( 10, train_total, test_total, train_total_NoCvd, train_total_Cvd,comb[0])"
   ]
  },
  {
   "cell_type": "code",
   "execution_count": 416,
   "metadata": {},
   "outputs": [
    {
     "name": "stdout",
     "output_type": "stream",
     "text": [
      "0.6892857142857143\n",
      "0.6899698340874811\n",
      "0.69\n",
      "0.6899849170437405\n"
     ]
    }
   ],
   "source": [
    "from statistics import mean\n",
    "print(mean(accuracy))\n",
    "print(mean(specificity))\n",
    "print(mean(sensitivity))\n",
    "print(mean(auc))"
   ]
  },
  {
   "cell_type": "code",
   "execution_count": 18,
   "metadata": {},
   "outputs": [],
   "source": [
    "# https://www.geeksforgeeks.org/python-all-possible-permutations-of-n-lists/\n",
    "\n",
    "def compute_comb(params):\n",
    "    \n",
    "    # initializing lists \n",
    "    list1 = params.get(\"learning_rate\")\n",
    "    list2 = params.get(\"max_depth\")\n",
    "    list3 = params.get(\"n_estimators\") \n",
    "    list4 = params.get(\"min_child_weight\")\n",
    "    list5 = params.get(\"gamma\")    \n",
    "    list6 = params.get(\"colsample_bylevel\")\n",
    "    list7 = params.get(\"reg_lambda\") \n",
    "    list8 = params.get(\"scale_pos_weight\")\n",
    "    list9 = params.get(\"colsample_bytree\")\n",
    "    list10 = params.get(\"reg_alpha\")\n",
    "    list11 = params.get(\"subsample\")\n",
    "    \n",
    "\n",
    "#     # printing lists  \n",
    "#     print (\"The original lists are : \" + str(list1) +\n",
    "#                                    \" \" + str(list2) + \n",
    "#                                    \" \" + str(list3) + \n",
    "#                                    \" \" + str(list4) + \n",
    "#                                    \" \" + str(list5) + \n",
    "#                                    \" \" + str(list6) +\n",
    "#                                    \" \" + str(list7) +\n",
    "#                                    \" \" + str(list8)) \n",
    "\n",
    "    # using list comprehension  \n",
    "    # to compute all possible permutations \n",
    "    res = [[i, j, k, l, m, n, o, p,q,r,s] for i in list1  \n",
    "                                          for j in list2 \n",
    "                                          for k in list3 \n",
    "                                          for l in list4 \n",
    "                                          for m in list5 \n",
    "                                          for n in list6 \n",
    "                                          for o in list7\n",
    "                                          for p in list8\n",
    "                                          for q in list9\n",
    "                                          for r in list10\n",
    "                                          for s in list11] \n",
    "\n",
    "    # printing result \n",
    "#     print (\"All possible permutations are : \" +  str(res))\n",
    "    return res"
   ]
  },
  {
   "cell_type": "code",
   "execution_count": 19,
   "metadata": {},
   "outputs": [],
   "source": [
    "class style:\n",
    "    BOLD = '\\033[1m'\n",
    "    END = '\\033[0m'"
   ]
  },
  {
   "cell_type": "code",
   "execution_count": 20,
   "metadata": {},
   "outputs": [],
   "source": [
    "# https://towardsdatascience.com/train-test-split-and-cross-validation-in-python-80b61beca4b6\n",
    "\n",
    "from sklearn.metrics import  confusion_matrix,roc_curve, roc_auc_score, accuracy_score\n",
    "from imxgboost.imbalance_xgb import imbalance_xgboost as imb_xgb\n",
    "from sklearn.model_selection import StratifiedKFold # import KFold\n",
    "from statistics import mean\n",
    "\n",
    "def gridsearch(params):\n",
    "    max_sens = 0\n",
    "    max_spes = 0\n",
    "    max_acc = 0\n",
    "    best_params = []\n",
    "    max_params = []\n",
    "    max_auc = 0\n",
    "    best_params_total = []\n",
    "    \n",
    "    MAX_auc = 0\n",
    "    MAX_spec = 0\n",
    "    MAX_sens = 0 \n",
    "    MAX_acc = 0\n",
    "    MAX_comd = []\n",
    "    MAX_feat = []\n",
    "    INDEXES = [0,0,0,0,0,0,0,0,0,0,0,0,0,0,0,0] \n",
    "    \n",
    "    combs = compute_comb(params)\n",
    "    print(len(combs))\n",
    "    for j in range(len(combs)):\n",
    "#         first_time = True\n",
    "        f_size = 16\n",
    "    \n",
    "        print (j, end=\"\\r\")\n",
    "#         print(j)\n",
    "        accuracy, specificity, sensitivity, auc,idx_aver,idx_vot = my_cross_val(f_size, 10, train_total, test_total,validation_total,train_total_NoCvd, train_total_Cvd,combs[j],[],[],True)\n",
    "#         print(\"all features\",idx_aver)\n",
    "#         if mean(sensitivity)> 0.5 and mean(specificity)>0.6 and mean(accuracy)>0.6 and mean(auc)>0.5:\n",
    "#             print(style.BOLD + \"----------------------------------------------------------------\"+ style.END)\n",
    "#             print(combs[j])\n",
    "#             print (style.BOLD + 'accuracy    ' + style.END, mean(accuracy))\n",
    "#             print (style.BOLD + 'specificity ' + style.END, mean(specificity))\n",
    "#             print (style.BOLD + 'sensitivity ' + style.END, mean(sensitivity))\n",
    "#             print (style.BOLD + 'auc         ' + style.END, mean(auc))\n",
    "#             print(style.BOLD + \"----------------------------------------------------------------\"+ style.END)\n",
    "#         else:\n",
    "#             print(combs[j])\n",
    "#             print(\"accuracy    \",mean(accuracy))\n",
    "#             print(\"specificity \",mean(specificity))\n",
    "#             print(\"sensitivity \",mean(sensitivity))\n",
    "#             print(\"auc         \",mean(auc))\n",
    "            \n",
    "        best_params.append([combs[j],mean(accuracy),mean(specificity),mean(sensitivity),mean(auc)])\n",
    "        if mean(auc)> max_auc:\n",
    "            max_sens = mean(sensitivity)\n",
    "            max_spes = mean(specificity)\n",
    "            max_acc = mean(accuracy)\n",
    "            max_auc = mean(auc)\n",
    "            max_params = combs[j]\n",
    "         \n",
    "        for k in range(len(idx_aver)-1):\n",
    "            INDEXES[idx_aver[k]] += len(idx_aver)-k-1\n",
    "        MAX_auc,MAX_spec,MAX_sens,MAX_acc,MAX_comd,MAX_feat,best_params_total = features_combinations(combs[j],idx_aver,MAX_auc,MAX_spec,MAX_sens,MAX_acc,MAX_comd,MAX_feat,best_params_total)\n",
    "    return max_sens, max_params, max_spes, max_acc, max_auc, best_params,MAX_auc,MAX_spec,MAX_sens,MAX_acc,MAX_comd,MAX_feat,INDEXES,best_params_total"
   ]
  },
  {
   "cell_type": "code",
   "execution_count": 21,
   "metadata": {},
   "outputs": [],
   "source": [
    "# # print(data)\n",
    "# for i in range(16):\n",
    "#     f_size = i+1\n",
    "#     dataNoCvd1 = data[~(data[:,16] > 0.0)]\n",
    "#     dataCvd1 = data[~(data[:,16] < 1.0)]\n",
    "#     rowsNoCvd = len(dataNoCvd)    \n",
    "#     rowsCvd = len(dataCvd)\n",
    "#     dataNoCvd=np.delete(dataNoCvd1, slice(f_size, 16), axis=1)\n",
    "#     dataCvd=np.delete(dataCvd1, slice(f_size, 16), axis=1)\n",
    "#     train_total, test_total, train_total_NoCvd, train_total_Cvd = create_train_test_sets(10,dataNoCvd,dataCvd)\n",
    "#     comb = compute_comb(params)\n",
    "#     print(comb[0])\n",
    "#     idx_aver = []\n",
    "#     idx_vot = []\n",
    "#     accuracy, specificity, sensitivity, auc = my_cross_val( 10, train_total, test_total, train_total_NoCvd, train_total_Cvd,comb[0])\n",
    "#     print(mean(auc))\n",
    "# #     print(rowsNoCvd)\n",
    "# #     print(rowsCvd)\n",
    "# #     print(dataNoCvd)\n",
    "# #     print(dataCvd)"
   ]
  },
  {
   "cell_type": "code",
   "execution_count": 23,
   "metadata": {},
   "outputs": [
    {
     "ename": "NameError",
     "evalue": "name 'idx_aver' is not defined",
     "output_type": "error",
     "traceback": [
      "\u001b[0;31m---------------------------------------------------------------------------\u001b[0m",
      "\u001b[0;31mNameError\u001b[0m                                 Traceback (most recent call last)",
      "\u001b[0;32m<ipython-input-23-ba146af21b12>\u001b[0m in \u001b[0;36m<module>\u001b[0;34m\u001b[0m\n\u001b[1;32m      1\u001b[0m \u001b[0mfirst_time\u001b[0m \u001b[0;34m=\u001b[0m \u001b[0;32mFalse\u001b[0m\u001b[0;34m\u001b[0m\u001b[0;34m\u001b[0m\u001b[0m\n\u001b[0;32m----> 2\u001b[0;31m \u001b[0mincluded_feat\u001b[0m \u001b[0;34m=\u001b[0m \u001b[0midx_aver\u001b[0m\u001b[0;34m.\u001b[0m\u001b[0mcopy\u001b[0m\u001b[0;34m(\u001b[0m\u001b[0;34m)\u001b[0m\u001b[0;34m\u001b[0m\u001b[0;34m\u001b[0m\u001b[0m\n\u001b[0m\u001b[1;32m      3\u001b[0m \u001b[0mprint\u001b[0m\u001b[0;34m(\u001b[0m\u001b[0midx_aver\u001b[0m\u001b[0;34m)\u001b[0m\u001b[0;34m\u001b[0m\u001b[0;34m\u001b[0m\u001b[0m\n\u001b[1;32m      4\u001b[0m \u001b[0;32mdel\u001b[0m \u001b[0mincluded_feat\u001b[0m\u001b[0;34m[\u001b[0m\u001b[0;34m-\u001b[0m\u001b[0;36m1\u001b[0m\u001b[0;34m]\u001b[0m\u001b[0;34m\u001b[0m\u001b[0;34m\u001b[0m\u001b[0m\n\u001b[1;32m      5\u001b[0m \u001b[0;32mdel\u001b[0m \u001b[0mincluded_feat\u001b[0m\u001b[0;34m[\u001b[0m\u001b[0;36m0\u001b[0m\u001b[0;34m:\u001b[0m\u001b[0;36m1\u001b[0m\u001b[0;34m]\u001b[0m\u001b[0;34m\u001b[0m\u001b[0;34m\u001b[0m\u001b[0m\n",
      "\u001b[0;31mNameError\u001b[0m: name 'idx_aver' is not defined"
     ]
    }
   ],
   "source": [
    "first_time = False\n",
    "included_feat = idx_aver.copy()\n",
    "print(idx_aver)\n",
    "del included_feat[-1]\n",
    "del included_feat[0:1]\n",
    "print(included_feat)"
   ]
  },
  {
   "cell_type": "code",
   "execution_count": 103,
   "metadata": {},
   "outputs": [
    {
     "name": "stdout",
     "output_type": "stream",
     "text": [
      "[[2 3 5 6]\n",
      " [2 3 5 6]]\n"
     ]
    }
   ],
   "source": [
    "a = [[1,2,3,4,5,6],[1,2,3,4,5,6]]\n",
    "a1=np.delete(a, [0,3], axis=1)\n",
    "print(a1)"
   ]
  },
  {
   "cell_type": "code",
   "execution_count": 22,
   "metadata": {},
   "outputs": [],
   "source": [
    "import matplotlib.pyplot as plt\n",
    "# plt.plot([1, 2, 3, 4])\n",
    "# plt.ylabel('some numbers')\n",
    "# plt.show()\n",
    "# print(data)\n",
    "def features_combinations(comb,idx_aver,MAX_auc,MAX_spec,MAX_sens,MAX_acc,MAX_comd,MAX_feat,best_params_total):\n",
    "    first_time = False\n",
    "    total_auc = []\n",
    "    max_auc_local = 0\n",
    "    max_acc_local = 0\n",
    "    max_sens_local = 0\n",
    "    max_spec_local = 0\n",
    "    max_feat_local = []\n",
    "    for i in range(16):\n",
    "        included_feat = idx_aver.copy()\n",
    "\n",
    "        f_size = i+1\n",
    "        del included_feat[-1]\n",
    "        del included_feat[0:f_size]\n",
    "\n",
    "        dataNoCvd1 = data[~(data[:,16] > 0.0)]\n",
    "        dataCvd1 = data[~(data[:,16] < 1.0)]\n",
    "        dataNoCvd2=np.delete(dataNoCvd1, included_feat, axis=1)\n",
    "        dataCvd2=np.delete(dataCvd1, included_feat, axis=1)\n",
    "\n",
    "        train_total1, test_total1, validation_total1, train_total_NoCvd1, train_total_Cvd1 = create_train_test_sets(f_size,10,dataNoCvd2,dataCvd2,0.1)\n",
    "\n",
    "        acc, spec, sens, Auc,id_a,id_v = my_cross_val(f_size, 10, train_total1, test_total1,validation_total1,train_total_NoCvd1, train_total_Cvd1,comb,[],[],first_time)\n",
    "\n",
    "        if max_auc_local<mean(Auc):\n",
    "            max_auc_local = mean(Auc)\n",
    "            max_acc_local = mean(acc)\n",
    "            max_sens_local = mean(sens)\n",
    "            max_spec_local = mean(spec)\n",
    "#             print(idx_aver)\n",
    "#             print(included_feat)\n",
    "            max_feat_local = idx_aver.copy()\n",
    "            for k in range(len(included_feat)):\n",
    "                max_feat_local.remove(included_feat[k])\n",
    "            max_feat_local.remove(16)\n",
    "                \n",
    "        total_auc.append(mean(Auc))\n",
    "    if(max_auc_local> 0.69):   \n",
    "        print (style.BOLD + 'new features' + style.END, max_feat_local)    \n",
    "        print(comb)\n",
    "        print (style.BOLD + 'accuracy    ' + style.END, max_acc_local)\n",
    "        print (style.BOLD + 'specificity ' + style.END, max_spec_local)\n",
    "        print (style.BOLD + 'sensitivity ' + style.END, max_sens_local)\n",
    "        print (style.BOLD + 'auc         ' + style.END, max_auc_local)\n",
    "        \n",
    "        plt.figure(figsize=(10,4))\n",
    "        names = []\n",
    "        for j in range(len(total_auc)):\n",
    "            names.append(str(idx_aver[j]))\n",
    "        plt.plot(names,total_auc)\n",
    "        # plt.ylabel(idx_aver)\n",
    "        plt.show()\n",
    "        \n",
    "    best_params_total.append([comb,max_acc_local,max_spec_local,max_sens_local,max_auc_local,max_feat_local,idx_aver])\n",
    "   \n",
    "    \n",
    "\n",
    "    if max_auc_local>MAX_auc:\n",
    "        MAX_auc = max_auc_local\n",
    "        MAX_comd = comb\n",
    "        MAX_feat = max_feat_local\n",
    "        MAX_sens = max_sens_local\n",
    "        MAX_spec = max_spec_local\n",
    "        MAX_acc = max_acc_local\n",
    "        \n",
    "    \n",
    "\n",
    "# plt.plot(names, values)\n",
    "# plt.suptitle('Categorical Plotting')\n",
    "# plt.show()\n",
    "    return MAX_auc,MAX_spec,MAX_sens,MAX_acc,MAX_comd,MAX_feat,best_params_total"
   ]
  },
  {
   "cell_type": "code",
   "execution_count": 25,
   "metadata": {},
   "outputs": [
    {
     "ename": "ValueError",
     "evalue": "list.remove(x): x not in list",
     "output_type": "error",
     "traceback": [
      "\u001b[0;31m---------------------------------------------------------------------------\u001b[0m",
      "\u001b[0;31mValueError\u001b[0m                                Traceback (most recent call last)",
      "\u001b[0;32m<ipython-input-25-57439d597a0d>\u001b[0m in \u001b[0;36m<module>\u001b[0;34m\u001b[0m\n\u001b[1;32m      3\u001b[0m \u001b[0;34m\u001b[0m\u001b[0m\n\u001b[1;32m      4\u001b[0m \u001b[0;34m\u001b[0m\u001b[0m\n\u001b[0;32m----> 5\u001b[0;31m \u001b[0mkk\u001b[0m \u001b[0;34m=\u001b[0m \u001b[0ma\u001b[0m\u001b[0;34m.\u001b[0m\u001b[0mremove\u001b[0m\u001b[0;34m(\u001b[0m\u001b[0mb\u001b[0m\u001b[0;34m)\u001b[0m\u001b[0;34m\u001b[0m\u001b[0;34m\u001b[0m\u001b[0m\n\u001b[0m\u001b[1;32m      6\u001b[0m \u001b[0mprint\u001b[0m\u001b[0;34m(\u001b[0m\u001b[0mkk\u001b[0m\u001b[0;34m)\u001b[0m\u001b[0;34m\u001b[0m\u001b[0;34m\u001b[0m\u001b[0m\n",
      "\u001b[0;31mValueError\u001b[0m: list.remove(x): x not in list"
     ]
    }
   ],
   "source": [
    "a=[3, 13, 14, 11, 15, 2, 1, 12, 10, 5, 0, 4, 6, 8, 7, 9, 16]\n",
    "b = [6, 8, 7, 9]\n",
    "\n",
    "\n",
    "kk = a.remove(b)\n",
    "print(kk)"
   ]
  },
  {
   "cell_type": "code",
   "execution_count": 26,
   "metadata": {},
   "outputs": [],
   "source": [
    "# https://www.analyticsvidhya.com/blog/2016/03/complete-guide-parameter-tuning-xgboost-with-codes-python/        \n",
    "\n",
    "params = {\n",
    "                    \"learning_rate\"    :[0.3],  #0.01-0.2 Makes the model more robust by shrinking the weights on each step\n",
    "                    \"max_depth\"        :[2,3],  #3-10 control over-fitting as higher depth will allow model to learn relations very specific to a particular sample\n",
    "                    \"n_estimators\"     :[1000],\n",
    "                    \"min_child_weight\" :[1,2,3,4],         #0.5-1 small values might lead to under-fitting\n",
    "                    \"gamma\"            :[0,0.5,1],            #Makes the algorithm conservative --> No overfitting\n",
    "                    \"colsample_bylevel\" :[0.5,0.75,1], #0.5-1\n",
    "                     \"reg_lambda\"      :[1, 1.5, 2], #  it should be explored to reduce overfitting.\n",
    "                    \"scale_pos_weight\" :[3,4,5],\n",
    "                    \"colsample_bytree\" :[0.5,0.75,1.0],\n",
    "                    \"reg_alpha\"        :[0],\n",
    "                    \"subsample\"        :[0.8,1.0]\n",
    "    \n",
    "        }\n",
    "# [0.3, 2, 1000, 3, 0, 0.5, 1, 4, 0.75, 0, 1.0, 0.5, 1, 0]\n",
    "# accuracy     0.6089285714285715\n",
    "# specificity  0.5937782805429864\n",
    "# sensitivity  0.81\n",
    "# auc          0.7018891402714932"
   ]
  },
  {
   "cell_type": "code",
   "execution_count": 27,
   "metadata": {},
   "outputs": [
    {
     "name": "stdout",
     "output_type": "stream",
     "text": [
      "3888\n",
      "3887\r"
     ]
    }
   ],
   "source": [
    "### MAX_auc = 0parameters : [0.3, 2, 1000, 3, 0, 0.5, 1, 4, 0.75, 0, 1.0]\n",
    "max_sens, max_params, max_spes, max_acc, max_auc, best_params,MAX_auc,MAX_spec,MAX_sens,MAX_acc,MAX_comb,MAX_feat,INDEXES,best_params_total= gridsearch(params)"
   ]
  },
  {
   "cell_type": "code",
   "execution_count": 28,
   "metadata": {},
   "outputs": [
    {
     "name": "stdout",
     "output_type": "stream",
     "text": [
      "[14, 3, 15, 11, 13, 1, 2, 12]\n",
      "[0.3, 3, 1000, 1, 0, 0.5, 1, 3, 0.5, 0, 1.0]\n",
      "0.6428571428571429\n",
      "0.6361236802413273\n",
      "0.74\n",
      "0.6880618401206636\n"
     ]
    }
   ],
   "source": [
    "print(MAX_feat)\n",
    "print(MAX_comb)\n",
    "print(MAX_acc)\n",
    "print(MAX_spec)\n",
    "print(MAX_sens)\n",
    "print(MAX_auc)"
   ]
  },
  {
   "cell_type": "code",
   "execution_count": 29,
   "metadata": {},
   "outputs": [
    {
     "name": "stdout",
     "output_type": "stream",
     "text": [
      "0\n"
     ]
    }
   ],
   "source": [
    "#Τυπώνονται περιπτώσεις που accuracy>0.6 και specificity>0.6 και sensitivity>0.6 και auc>0.6\n",
    "s = 0\n",
    "for i in range(len(best_params_total)):\n",
    "    if best_params_total[i][4] > 0.69:\n",
    "        print(\"parameters :\",best_params_total[i][0])\n",
    "        print(\"accuracy :\",best_params_total[i][1])\n",
    "        print(\"spes     :\",best_params_total[i][2])\n",
    "        print(\"sens     :\",best_params_total[i][3])\n",
    "        print(\"auc      :\",best_params_total[i][4])\n",
    "        print(best_params_total[i][5])\n",
    "        print(best_params_total[i][6])\n",
    "        print(\"------------------------------------------------\")\n",
    "        s+=1\n",
    "print(s)"
   ]
  },
  {
   "cell_type": "code",
   "execution_count": 76,
   "metadata": {},
   "outputs": [
    {
     "name": "stdout",
     "output_type": "stream",
     "text": [
      "[2, 7, 6, 10, 2, 4, 2, 1, 3, 1, 5, 8, 5, 8, 9, 8]\n"
     ]
    }
   ],
   "source": [
    "IND = []\n",
    "for i in range(len(INDEXES)):\n",
    "    IND.append(INDEXES[i]//min(INDEXES))\n",
    "print(IND)"
   ]
  },
  {
   "cell_type": "code",
   "execution_count": 22,
   "metadata": {},
   "outputs": [],
   "source": [
    "# https://www.analyticsvidhya.com/blog/2016/03/complete-guide-parameter-tuning-xgboost-with-codes-python/        \n",
    "\n",
    "params = {\n",
    "                    \"learning_rate\"    :[0.3],  #0.01-0.2 Makes the model more robust by shrinking the weights on each step\n",
    "                    \"max_depth\"        :[2,3],  #3-10 control over-fitting as higher depth will allow model to learn relations very specific to a particular sample\n",
    "                    \"n_estimators\"     :[1000],\n",
    "                    \"min_child_weight\" :[1,2,3,4],         #0.5-1 small values might lead to under-fitting\n",
    "                    \"gamma\"            :[0,0.5,1],            #Makes the algorithm conservative --> No overfitting\n",
    "                    \"colsample_bylevel\" :[0.5,0.75,1], #0.5-1\n",
    "                     \"reg_lambda\"      :[1, 1.5, 2], #  it should be explored to reduce overfitting.\n",
    "                    \"scale_pos_weight\" :[3,4,5],\n",
    "                    \"colsample_bytree\" :[0.5,0.75,1.0],\n",
    "                    \"reg_alpha\"        :[0.1],\n",
    "                    \"subsample\"        :[0.8,1.0]\n",
    "    \n",
    "        }\n"
   ]
  },
  {
   "cell_type": "code",
   "execution_count": 23,
   "metadata": {},
   "outputs": [
    {
     "name": "stdout",
     "output_type": "stream",
     "text": [
      "3888\n",
      "3887\r"
     ]
    }
   ],
   "source": [
    "max_sens, max_params, max_spes, max_acc, max_auc, best_params,MAX_auc,MAX_spec,MAX_sens,MAX_acc,MAX_comb,MAX_feat,INDEXES,best_params_total= gridsearch(params)"
   ]
  },
  {
   "cell_type": "code",
   "execution_count": 24,
   "metadata": {},
   "outputs": [
    {
     "name": "stdout",
     "output_type": "stream",
     "text": [
      "[3, 14, 11, 15, 13, 1, 12, 2, 10, 5, 8, 4]\n",
      "[0.3, 3, 1000, 1, 0, 0.5, 1.5, 4, 1.0, 0.1, 0.8]\n",
      "0.6642857142857143\n",
      "0.6611236802413273\n",
      "0.71\n",
      "0.6855618401206637\n"
     ]
    }
   ],
   "source": [
    "print(MAX_feat)\n",
    "print(MAX_comb)\n",
    "print(MAX_acc)\n",
    "print(MAX_spec)\n",
    "print(MAX_sens)\n",
    "print(MAX_auc)"
   ]
  },
  {
   "cell_type": "code",
   "execution_count": 25,
   "metadata": {},
   "outputs": [
    {
     "name": "stdout",
     "output_type": "stream",
     "text": [
      "parameters : [0.3, 3, 1000, 1, 0, 0.5, 1.5, 4, 1.0, 0.1, 0.8]\n",
      "accuracy : 0.6642857142857143\n",
      "spes     : 0.6611236802413273\n",
      "sens     : 0.71\n",
      "auc      : 0.6855618401206637\n",
      "[3, 14, 11, 15, 13, 1, 12, 2, 10, 5, 8, 4]\n",
      "[3, 14, 11, 15, 13, 1, 12, 2, 10, 5, 8, 4, 6, 0, 9, 7, 16]\n",
      "------------------------------------------------\n",
      "1\n"
     ]
    }
   ],
   "source": [
    "#Τυπώνονται περιπτώσεις που accuracy>0.6 και specificity>0.6 και sensitivity>0.6 και auc>0.6\n",
    "s = 0\n",
    "for i in range(len(best_params_total)):\n",
    "    if best_params_total[i][4] > 0.685:\n",
    "        print(\"parameters :\",best_params_total[i][0])\n",
    "        print(\"accuracy :\",best_params_total[i][1])\n",
    "        print(\"spes     :\",best_params_total[i][2])\n",
    "        print(\"sens     :\",best_params_total[i][3])\n",
    "        print(\"auc      :\",best_params_total[i][4])\n",
    "        print(best_params_total[i][5])\n",
    "        print(best_params_total[i][6])\n",
    "        print(\"------------------------------------------------\")\n",
    "        s+=1\n",
    "print(s)"
   ]
  },
  {
   "cell_type": "code",
   "execution_count": 26,
   "metadata": {},
   "outputs": [
    {
     "name": "stdout",
     "output_type": "stream",
     "text": [
      "[2, 7, 6, 10, 2, 4, 2, 1, 3, 1, 5, 8, 5, 8, 9, 7]\n"
     ]
    }
   ],
   "source": [
    "IND = []\n",
    "for i in range(len(INDEXES)):\n",
    "    IND.append(INDEXES[i]//min(INDEXES))\n",
    "print(IND)"
   ]
  },
  {
   "cell_type": "code",
   "execution_count": 24,
   "metadata": {},
   "outputs": [],
   "source": [
    "# https://www.analyticsvidhya.com/blog/2016/03/complete-guide-parameter-tuning-xgboost-with-codes-python/        \n",
    "\n",
    "params = {\n",
    "                    \"learning_rate\"    :[0.3],  #0.01-0.2 Makes the model more robust by shrinking the weights on each step\n",
    "                    \"max_depth\"        :[2,3],  #3-10 control over-fitting as higher depth will allow model to learn relations very specific to a particular sample\n",
    "                    \"n_estimators\"     :[1000],\n",
    "                    \"min_child_weight\" :[1,2,3,4],         #0.5-1 small values might lead to under-fitting\n",
    "                    \"gamma\"            :[0,0.5,1],            #Makes the algorithm conservative --> No overfitting\n",
    "                    \"colsample_bylevel\" :[0.5,0.75,1], #0.5-1\n",
    "                     \"reg_lambda\"      :[1, 1.5, 2], #  it should be explored to reduce overfitting.\n",
    "                    \"scale_pos_weight\" :[3,4,5],\n",
    "                    \"colsample_bytree\" :[0.5,0.75,1.0],\n",
    "                    \"reg_alpha\"        :[0.2],\n",
    "                    \"subsample\"        :[0.8,1.0]\n",
    "    \n",
    "        }"
   ]
  },
  {
   "cell_type": "code",
   "execution_count": 25,
   "metadata": {},
   "outputs": [
    {
     "name": "stdout",
     "output_type": "stream",
     "text": [
      "3888\n",
      "3887\r"
     ]
    }
   ],
   "source": [
    "max_sens, max_params, max_spes, max_acc, max_auc, best_params,MAX_auc,MAX_spec,MAX_sens,MAX_acc,MAX_comb,MAX_feat,INDEXES,best_params_total= gridsearch(params)"
   ]
  },
  {
   "cell_type": "code",
   "execution_count": 26,
   "metadata": {},
   "outputs": [
    {
     "name": "stdout",
     "output_type": "stream",
     "text": [
      "[14, 3, 13, 11, 1, 15, 12, 2]\n",
      "[0.3, 3, 1000, 1, 0, 0.5, 2, 5, 0.75, 0.2, 0.8]\n",
      "0.6160714285714286\n",
      "0.6053167420814479\n",
      "0.76\n",
      "0.682658371040724\n"
     ]
    }
   ],
   "source": [
    "print(MAX_feat)\n",
    "print(MAX_comb)\n",
    "print(MAX_acc)\n",
    "print(MAX_spec)\n",
    "print(MAX_sens)\n",
    "print(MAX_auc)"
   ]
  },
  {
   "cell_type": "code",
   "execution_count": 27,
   "metadata": {},
   "outputs": [
    {
     "name": "stdout",
     "output_type": "stream",
     "text": [
      "[2, 7, 6, 10, 2, 4, 2, 1, 3, 1, 5, 8, 5, 8, 9, 7]\n"
     ]
    }
   ],
   "source": [
    "IND = []\n",
    "for i in range(len(INDEXES)):\n",
    "    IND.append(INDEXES[i]//min(INDEXES))\n",
    "print(IND)"
   ]
  },
  {
   "cell_type": "code",
   "execution_count": 22,
   "metadata": {},
   "outputs": [],
   "source": [
    "# https://www.analyticsvidhya.com/blog/2016/03/complete-guide-parameter-tuning-xgboost-with-codes-python/        \n",
    "\n",
    "params = {\n",
    "                    \"learning_rate\"    :[0.2],  #0.01-0.2 Makes the model more robust by shrinking the weights on each step\n",
    "                    \"max_depth\"        :[2,3],  #3-10 control over-fitting as higher depth will allow model to learn relations very specific to a particular sample\n",
    "                    \"n_estimators\"     :[1000],\n",
    "                    \"min_child_weight\" :[1,2,3,4],         #0.5-1 small values might lead to under-fitting\n",
    "                    \"gamma\"            :[0,0.5,1],            #Makes the algorithm conservative --> No overfitting\n",
    "                    \"colsample_bylevel\" :[0.5,0.75,1], #0.5-1\n",
    "                     \"reg_lambda\"      :[1, 1.5, 2], #  it should be explored to reduce overfitting.\n",
    "                    \"scale_pos_weight\" :[3,4,5],\n",
    "                    \"colsample_bytree\" :[0.5,0.75,1.0],\n",
    "                    \"reg_alpha\"        :[0],\n",
    "                    \"subsample\"        :[0.8,1.0]\n",
    "    \n",
    "        }"
   ]
  },
  {
   "cell_type": "code",
   "execution_count": 23,
   "metadata": {},
   "outputs": [
    {
     "name": "stdout",
     "output_type": "stream",
     "text": [
      "3888\n",
      "3887\r"
     ]
    }
   ],
   "source": [
    "max_sens, max_params, max_spes, max_acc, max_auc, best_params,MAX_auc,MAX_spec,MAX_sens,MAX_acc,MAX_comb,MAX_feat,INDEXES,best_params_total= gridsearch(params)"
   ]
  },
  {
   "cell_type": "code",
   "execution_count": 24,
   "metadata": {},
   "outputs": [
    {
     "name": "stdout",
     "output_type": "stream",
     "text": [
      "[3, 14, 11, 13, 15, 1, 2, 10, 12, 5, 8]\n",
      "[0.2, 3, 1000, 2, 1, 0.75, 1.5, 4, 0.5, 0, 1.0]\n",
      "0.5821428571428572\n",
      "0.5647812971342383\n",
      "0.81\n",
      "0.6873906485671192\n"
     ]
    }
   ],
   "source": [
    "print(MAX_feat)\n",
    "print(MAX_comb)\n",
    "print(MAX_acc)\n",
    "print(MAX_spec)\n",
    "print(MAX_sens)\n",
    "print(MAX_auc)"
   ]
  },
  {
   "cell_type": "code",
   "execution_count": 25,
   "metadata": {},
   "outputs": [
    {
     "name": "stdout",
     "output_type": "stream",
     "text": [
      "parameters : [0.2, 2, 1000, 3, 0, 0.5, 1, 5, 0.75, 0, 1.0]\n",
      "accuracy : 0.5071428571428571\n",
      "spes     : 0.4782051282051282\n",
      "sens     : 0.89\n",
      "auc      : 0.6841025641025641\n",
      "[3, 11, 14, 13, 15, 2]\n",
      "[3, 11, 14, 13, 15, 2, 1, 12, 10, 5, 8, 6, 4, 0, 7, 9, 16]\n",
      "------------------------------------------------\n",
      "parameters : [0.2, 3, 1000, 1, 0.5, 0.5, 2, 5, 0.75, 0, 0.8]\n",
      "accuracy : 0.5767857142857142\n",
      "spes     : 0.558974358974359\n",
      "sens     : 0.81\n",
      "auc      : 0.6844871794871795\n",
      "[3, 14, 13, 11, 15, 1, 2, 12, 10, 5, 8, 4, 6, 0, 9, 7]\n",
      "[3, 14, 13, 11, 15, 1, 2, 12, 10, 5, 8, 4, 6, 0, 9, 7, 16]\n",
      "------------------------------------------------\n",
      "parameters : [0.2, 3, 1000, 1, 1, 0.5, 2, 3, 0.75, 0, 1.0]\n",
      "accuracy : 0.6196428571428572\n",
      "spes     : 0.6090497737556562\n",
      "sens     : 0.76\n",
      "auc      : 0.6845248868778281\n",
      "[3, 13, 15, 14, 11, 1, 2, 10, 12, 5, 8, 4, 7, 0, 6]\n",
      "[3, 13, 15, 14, 11, 1, 2, 10, 12, 5, 8, 4, 7, 0, 6, 9, 16]\n",
      "------------------------------------------------\n",
      "parameters : [0.2, 3, 1000, 2, 0.5, 0.75, 1, 5, 0.5, 0, 1.0]\n",
      "accuracy : 0.55\n",
      "spes     : 0.5282051282051282\n",
      "sens     : 0.835\n",
      "auc      : 0.6816025641025641\n",
      "[14, 3, 11, 15, 13, 1, 2, 12, 10, 5, 8, 4, 0, 6, 7]\n",
      "[14, 3, 11, 15, 13, 1, 2, 12, 10, 5, 8, 4, 0, 6, 7, 9, 16]\n",
      "------------------------------------------------\n",
      "parameters : [0.2, 3, 1000, 2, 1, 0.75, 1.5, 4, 0.5, 0, 1.0]\n",
      "accuracy : 0.5821428571428572\n",
      "spes     : 0.5647812971342383\n",
      "sens     : 0.81\n",
      "auc      : 0.6873906485671192\n",
      "[3, 14, 11, 13, 15, 1, 2, 10, 12, 5, 8]\n",
      "[3, 14, 11, 13, 15, 1, 2, 10, 12, 5, 8, 4, 0, 6, 7, 9, 16]\n",
      "------------------------------------------------\n",
      "parameters : [0.2, 3, 1000, 3, 0, 0.5, 1, 4, 0.75, 0, 1.0]\n",
      "accuracy : 0.6142857142857143\n",
      "spes     : 0.6033559577677224\n",
      "sens     : 0.76\n",
      "auc      : 0.6816779788838612\n",
      "[3, 14, 15, 11, 13, 2, 1, 12, 10, 5, 8, 4, 6, 0, 7, 9]\n",
      "[3, 14, 15, 11, 13, 2, 1, 12, 10, 5, 8, 4, 6, 0, 7, 9, 16]\n",
      "------------------------------------------------\n",
      "parameters : [0.2, 3, 1000, 3, 0.5, 0.75, 1.5, 3, 0.5, 0, 1.0]\n",
      "accuracy : 0.6339285714285714\n",
      "spes     : 0.6264705882352941\n",
      "sens     : 0.735\n",
      "auc      : 0.6807352941176471\n",
      "[14, 3, 15, 13, 11, 1, 2, 12, 10, 5, 8]\n",
      "[14, 3, 15, 13, 11, 1, 2, 12, 10, 5, 8, 4, 6, 0, 7, 9, 16]\n",
      "------------------------------------------------\n",
      "7\n"
     ]
    }
   ],
   "source": [
    "#Τυπώνονται περιπτώσεις που accuracy>0.6 και specificity>0.6 και sensitivity>0.6 και auc>0.6\n",
    "s = 0\n",
    "for i in range(len(best_params_total)):\n",
    "    if best_params_total[i][4] > 0.68:\n",
    "        print(\"parameters :\",best_params_total[i][0])\n",
    "        print(\"accuracy :\",best_params_total[i][1])\n",
    "        print(\"spes     :\",best_params_total[i][2])\n",
    "        print(\"sens     :\",best_params_total[i][3])\n",
    "        print(\"auc      :\",best_params_total[i][4])\n",
    "        print(best_params_total[i][5])\n",
    "        print(best_params_total[i][6])\n",
    "        print(\"------------------------------------------------\")\n",
    "        s+=1\n",
    "print(s)"
   ]
  },
  {
   "cell_type": "code",
   "execution_count": 26,
   "metadata": {},
   "outputs": [
    {
     "name": "stdout",
     "output_type": "stream",
     "text": [
      "[2, 6, 6, 9, 2, 4, 2, 1, 3, 1, 5, 8, 5, 8, 9, 7]\n"
     ]
    }
   ],
   "source": [
    "IND = []\n",
    "for i in range(len(INDEXES)):\n",
    "    IND.append(INDEXES[i]//min(INDEXES))\n",
    "print(IND)"
   ]
  },
  {
   "cell_type": "code",
   "execution_count": 23,
   "metadata": {},
   "outputs": [],
   "source": [
    "# https://www.analyticsvidhya.com/blog/2016/03/complete-guide-parameter-tuning-xgboost-with-codes-python/        \n",
    "\n",
    "params = {\n",
    "                    \"learning_rate\"    :[0.2],  #0.01-0.2 Makes the model more robust by shrinking the weights on each step\n",
    "                    \"max_depth\"        :[2,3],  #3-10 control over-fitting as higher depth will allow model to learn relations very specific to a particular sample\n",
    "                    \"n_estimators\"     :[1000],\n",
    "                    \"min_child_weight\" :[1,2,3,4],         #0.5-1 small values might lead to under-fitting\n",
    "                    \"gamma\"            :[0,0.5,1],            #Makes the algorithm conservative --> No overfitting\n",
    "                    \"colsample_bylevel\" :[0.5,0.75,1], #0.5-1\n",
    "                     \"reg_lambda\"      :[1, 1.5, 2], #  it should be explored to reduce overfitting.\n",
    "                    \"scale_pos_weight\" :[3,4,5],\n",
    "                    \"colsample_bytree\" :[0.5,0.75,1.0],\n",
    "                    \"reg_alpha\"        :[0.1],\n",
    "                    \"subsample\"        :[0.8,1.0]\n",
    "    \n",
    "        }"
   ]
  },
  {
   "cell_type": "code",
   "execution_count": 24,
   "metadata": {},
   "outputs": [
    {
     "name": "stdout",
     "output_type": "stream",
     "text": [
      "3888\n",
      "3887\r"
     ]
    }
   ],
   "source": [
    "max_sens, max_params, max_spes, max_acc, max_auc, best_params,MAX_auc,MAX_spec,MAX_sens,MAX_acc,MAX_comb,MAX_feat,INDEXES,best_params_total= gridsearch(params)"
   ]
  },
  {
   "cell_type": "code",
   "execution_count": 25,
   "metadata": {},
   "outputs": [
    {
     "name": "stdout",
     "output_type": "stream",
     "text": [
      "[3, 14, 15, 13, 11, 1, 2, 12, 10, 5, 8, 0]\n",
      "[0.2, 3, 1000, 4, 0.5, 0.75, 1.5, 3, 0.75, 0.1, 1.0]\n",
      "0.6142857142857143\n",
      "0.603393665158371\n",
      "0.76\n",
      "0.6816968325791855\n"
     ]
    }
   ],
   "source": [
    "print(MAX_feat)\n",
    "print(MAX_comb)\n",
    "print(MAX_acc)\n",
    "print(MAX_spec)\n",
    "print(MAX_sens)\n",
    "print(MAX_auc)"
   ]
  },
  {
   "cell_type": "code",
   "execution_count": 26,
   "metadata": {},
   "outputs": [
    {
     "name": "stdout",
     "output_type": "stream",
     "text": [
      "[2, 6, 6, 9, 2, 4, 2, 1, 3, 1, 5, 8, 5, 8, 9, 7]\n"
     ]
    }
   ],
   "source": [
    "IND = []\n",
    "for i in range(len(INDEXES)):\n",
    "    IND.append(INDEXES[i]//min(INDEXES))\n",
    "print(IND)"
   ]
  },
  {
   "cell_type": "code",
   "execution_count": 22,
   "metadata": {},
   "outputs": [],
   "source": [
    "# https://www.analyticsvidhya.com/blog/2016/03/complete-guide-parameter-tuning-xgboost-with-codes-python/        \n",
    "\n",
    "params = {\n",
    "                    \"learning_rate\"    :[0.2],  #0.01-0.2 Makes the model more robust by shrinking the weights on each step\n",
    "                    \"max_depth\"        :[2,3],  #3-10 control over-fitting as higher depth will allow model to learn relations very specific to a particular sample\n",
    "                    \"n_estimators\"     :[1000],\n",
    "                    \"min_child_weight\" :[1,2,3,4],         #0.5-1 small values might lead to under-fitting\n",
    "                    \"gamma\"            :[0,0.5,1],            #Makes the algorithm conservative --> No overfitting\n",
    "                    \"colsample_bylevel\" :[0.5,0.75,1], #0.5-1\n",
    "                     \"reg_lambda\"      :[1, 1.5, 2], #  it should be explored to reduce overfitting.\n",
    "                    \"scale_pos_weight\" :[3,4,5],\n",
    "                    \"colsample_bytree\" :[0.5,0.75,1.0],\n",
    "                    \"reg_alpha\"        :[0.2],\n",
    "                    \"subsample\"        :[0.8,1.0]\n",
    "    \n",
    "        }"
   ]
  },
  {
   "cell_type": "code",
   "execution_count": 23,
   "metadata": {},
   "outputs": [
    {
     "name": "stdout",
     "output_type": "stream",
     "text": [
      "3888\n",
      "3887\r"
     ]
    }
   ],
   "source": [
    "max_sens, max_params, max_spes, max_acc, max_auc, best_params,MAX_auc,MAX_spec,MAX_sens,MAX_acc,MAX_comb,MAX_feat,INDEXES,best_params_total= gridsearch(params)"
   ]
  },
  {
   "cell_type": "code",
   "execution_count": 25,
   "metadata": {},
   "outputs": [
    {
     "name": "stdout",
     "output_type": "stream",
     "text": [
      "[3, 14, 11, 15, 13, 1, 2, 10, 12, 5, 8, 6, 4, 0]\n",
      "[0.2, 3, 1000, 1, 0, 0.5, 2, 4, 0.5, 0.2, 1.0]\n",
      "0.5714285714285714\n",
      "0.5531297134238311\n",
      "0.81\n",
      "0.6815648567119156\n"
     ]
    }
   ],
   "source": [
    "print(MAX_feat)\n",
    "print(MAX_comb)\n",
    "print(MAX_acc)\n",
    "print(MAX_spec)\n",
    "print(MAX_sens)\n",
    "print(MAX_auc)"
   ]
  },
  {
   "cell_type": "code",
   "execution_count": 26,
   "metadata": {},
   "outputs": [
    {
     "name": "stdout",
     "output_type": "stream",
     "text": [
      "parameters : [0.2, 3, 1000, 1, 0, 0.5, 2, 4, 0.5, 0.2, 1.0]\n",
      "accuracy : 0.5714285714285714\n",
      "spes     : 0.5531297134238311\n",
      "sens     : 0.81\n",
      "auc      : 0.6815648567119156\n",
      "[3, 14, 11, 15, 13, 1, 2, 10, 12, 5, 8, 6, 4, 0]\n",
      "[3, 14, 11, 15, 13, 1, 2, 10, 12, 5, 8, 6, 4, 0, 9, 7, 16]\n",
      "------------------------------------------------\n",
      "1\n"
     ]
    }
   ],
   "source": [
    "#Τυπώνονται περιπτώσεις που accuracy>0.6 και specificity>0.6 και sensitivity>0.6 και auc>0.6\n",
    "s = 0\n",
    "for i in range(len(best_params_total)):\n",
    "    if best_params_total[i][4] > 0.68:\n",
    "        print(\"parameters :\",best_params_total[i][0])\n",
    "        print(\"accuracy :\",best_params_total[i][1])\n",
    "        print(\"spes     :\",best_params_total[i][2])\n",
    "        print(\"sens     :\",best_params_total[i][3])\n",
    "        print(\"auc      :\",best_params_total[i][4])\n",
    "        print(best_params_total[i][5])\n",
    "        print(best_params_total[i][6])\n",
    "        print(\"------------------------------------------------\")\n",
    "        s+=1\n",
    "print(s)"
   ]
  },
  {
   "cell_type": "code",
   "execution_count": 27,
   "metadata": {},
   "outputs": [
    {
     "name": "stdout",
     "output_type": "stream",
     "text": [
      "[2, 6, 6, 9, 2, 4, 2, 1, 3, 1, 5, 8, 5, 8, 9, 7]\n"
     ]
    }
   ],
   "source": [
    "IND = []\n",
    "for i in range(len(INDEXES)):\n",
    "    IND.append(INDEXES[i]//min(INDEXES))\n",
    "print(IND)"
   ]
  },
  {
   "cell_type": "code",
   "execution_count": 29,
   "metadata": {},
   "outputs": [],
   "source": [
    "# https://www.analyticsvidhya.com/blog/2016/03/complete-guide-parameter-tuning-xgboost-with-codes-python/        \n",
    "\n",
    "params = {\n",
    "                    \"learning_rate\"    :[0.35],  #0.01-0.2 Makes the model more robust by shrinking the weights on each step\n",
    "                    \"max_depth\"        :[2,3],  #3-10 control over-fitting as higher depth will allow model to learn relations very specific to a particular sample\n",
    "                    \"n_estimators\"     :[1000],\n",
    "                    \"min_child_weight\" :[1,2,3,4],         #0.5-1 small values might lead to under-fitting\n",
    "                    \"gamma\"            :[0,0.5,1],            #Makes the algorithm conservative --> No overfitting\n",
    "                    \"colsample_bylevel\" :[0.5,0.75,1], #0.5-1\n",
    "                     \"reg_lambda\"      :[1, 1.5, 2], #  it should be explored to reduce overfitting.\n",
    "                    \"scale_pos_weight\" :[3,4,5],\n",
    "                    \"colsample_bytree\" :[0.5,0.75,1.0],\n",
    "                    \"reg_alpha\"        :[0],\n",
    "                    \"subsample\"        :[0.8,1.0]\n",
    "    \n",
    "        }"
   ]
  },
  {
   "cell_type": "code",
   "execution_count": 30,
   "metadata": {},
   "outputs": [
    {
     "name": "stdout",
     "output_type": "stream",
     "text": [
      "3888\n",
      "\u001b[1mnew features\u001b[0m [14, 3, 15, 13, 1, 11, 2, 12, 10, 5, 8, 4, 0, 6, 9, 7]\n",
      "[0.35, 2, 1000, 2, 1, 0.5, 1, 4, 0.75, 0, 0.8]\n",
      "\u001b[1maccuracy    \u001b[0m 0.6178571428571429\n",
      "\u001b[1mspecificity \u001b[0m 0.6051282051282051\n",
      "\u001b[1msensitivity \u001b[0m 0.785\n",
      "\u001b[1mauc         \u001b[0m 0.6950641025641026\n"
     ]
    },
    {
     "data": {
      "image/png": "[encoded data removed]",
      "text/plain": [
       "<Figure size 720x288 with 1 Axes>"
      ]
     },
     "metadata": {
      "needs_background": "light"
     },
     "output_type": "display_data"
    },
    {
     "name": "stdout",
     "output_type": "stream",
     "text": [
      "3887\r"
     ]
    }
   ],
   "source": [
    "max_sens, max_params, max_spes, max_acc, max_auc, best_params,MAX_auc,MAX_spec,MAX_sens,MAX_acc,MAX_comb,MAX_feat,INDEXES,best_params_total= gridsearch(params)"
   ]
  },
  {
   "cell_type": "code",
   "execution_count": 31,
   "metadata": {},
   "outputs": [
    {
     "name": "stdout",
     "output_type": "stream",
     "text": [
      "[14, 3, 15, 13, 1, 11, 2, 12, 10, 5, 8, 4, 0, 6, 9, 7]\n",
      "[0.35, 2, 1000, 2, 1, 0.5, 1, 4, 0.75, 0, 0.8]\n",
      "0.6178571428571429\n",
      "0.6051282051282051\n",
      "0.785\n",
      "0.6950641025641026\n"
     ]
    }
   ],
   "source": [
    "print(MAX_feat)\n",
    "print(MAX_comb)\n",
    "print(MAX_acc)\n",
    "print(MAX_spec)\n",
    "print(MAX_sens)\n",
    "print(MAX_auc)"
   ]
  },
  {
   "cell_type": "code",
   "execution_count": 33,
   "metadata": {},
   "outputs": [
    {
     "name": "stdout",
     "output_type": "stream",
     "text": [
      "parameters : [0.35, 2, 1000, 2, 1, 0.5, 1, 4, 0.75, 0, 0.8]\n",
      "accuracy : 0.6178571428571429\n",
      "spes     : 0.6051282051282051\n",
      "sens     : 0.785\n",
      "auc      : 0.6950641025641026\n",
      "[14, 3, 15, 13, 1, 11, 2, 12, 10, 5, 8, 4, 0, 6, 9, 7]\n",
      "[14, 3, 15, 13, 1, 11, 2, 12, 10, 5, 8, 4, 0, 6, 9, 7, 16]\n",
      "------------------------------------------------\n",
      "parameters : [0.35, 3, 1000, 2, 0.5, 0.5, 2, 5, 0.75, 0, 0.8]\n",
      "accuracy : 0.575\n",
      "spes     : 0.5572021116138763\n",
      "sens     : 0.815\n",
      "auc      : 0.6861010558069383\n",
      "[14, 3, 13, 11, 15, 1, 2, 12]\n",
      "[14, 3, 13, 11, 15, 1, 2, 12, 10, 5, 8, 4, 6, 0, 9, 7, 16]\n",
      "------------------------------------------------\n",
      "2\n"
     ]
    }
   ],
   "source": [
    "#Τυπώνονται περιπτώσεις που accuracy>0.6 και specificity>0.6 και sensitivity>0.6 και auc>0.6\n",
    "s = 0\n",
    "for i in range(len(best_params_total)):\n",
    "    if best_params_total[i][4] > 0.685:\n",
    "        print(\"parameters :\",best_params_total[i][0])\n",
    "        print(\"accuracy :\",best_params_total[i][1])\n",
    "        print(\"spes     :\",best_params_total[i][2])\n",
    "        print(\"sens     :\",best_params_total[i][3])\n",
    "        print(\"auc      :\",best_params_total[i][4])\n",
    "        print(best_params_total[i][5])\n",
    "        print(best_params_total[i][6])\n",
    "        print(\"------------------------------------------------\")\n",
    "        s+=1\n",
    "print(s)"
   ]
  },
  {
   "cell_type": "code",
   "execution_count": 34,
   "metadata": {},
   "outputs": [
    {
     "name": "stdout",
     "output_type": "stream",
     "text": [
      "[2, 7, 6, 10, 2, 4, 2, 1, 3, 1, 5, 8, 6, 8, 9, 8]\n"
     ]
    }
   ],
   "source": [
    "IND = []\n",
    "for i in range(len(INDEXES)):\n",
    "    IND.append(INDEXES[i]//min(INDEXES))\n",
    "print(IND)"
   ]
  },
  {
   "cell_type": "code",
   "execution_count": 23,
   "metadata": {},
   "outputs": [],
   "source": [
    "# https://www.analyticsvidhya.com/blog/2016/03/complete-guide-parameter-tuning-xgboost-with-codes-python/        \n",
    "\n",
    "params = {\n",
    "                    \"learning_rate\"    :[0.35],  #0.01-0.2 Makes the model more robust by shrinking the weights on each step\n",
    "                    \"max_depth\"        :[2,3],  #3-10 control over-fitting as higher depth will allow model to learn relations very specific to a particular sample\n",
    "                    \"n_estimators\"     :[1000],\n",
    "                    \"min_child_weight\" :[1,2,3,4],         #0.5-1 small values might lead to under-fitting\n",
    "                    \"gamma\"            :[0,0.5,1],            #Makes the algorithm conservative --> No overfitting\n",
    "                    \"colsample_bylevel\" :[0.5,0.75,1], #0.5-1\n",
    "                     \"reg_lambda\"      :[1, 1.5, 2], #  it should be explored to reduce overfitting.\n",
    "                    \"scale_pos_weight\" :[3,4,5],\n",
    "                    \"colsample_bytree\" :[0.5,0.75,1.0],\n",
    "                    \"reg_alpha\"        :[0.1],\n",
    "                    \"subsample\"        :[0.8,1.0]\n",
    "    \n",
    "        }"
   ]
  },
  {
   "cell_type": "code",
   "execution_count": 35,
   "metadata": {},
   "outputs": [
    {
     "name": "stdout",
     "output_type": "stream",
     "text": [
      "3888\n",
      "\u001b[1mnew features\u001b[0m [3, 14, 11, 13, 15, 2, 1, 12]\n",
      "[0.35, 2, 1000, 1, 0.5, 0.5, 2, 4, 0.75, 0.1, 0.8]\n",
      "\u001b[1maccuracy    \u001b[0m 0.6107142857142858\n",
      "\u001b[1mspecificity \u001b[0m 0.5975867269984917\n",
      "\u001b[1msensitivity \u001b[0m 0.795\n",
      "\u001b[1mauc         \u001b[0m 0.6962933634992459\n"
     ]
    },
    {
     "data": {
      "image/png": "[encoded data removed]",
      "text/plain": [
       "<Figure size 720x288 with 1 Axes>"
      ]
     },
     "metadata": {
      "needs_background": "light"
     },
     "output_type": "display_data"
    },
    {
     "name": "stdout",
     "output_type": "stream",
     "text": [
      "3887\r"
     ]
    }
   ],
   "source": [
    "max_sens, max_params, max_spes, max_acc, max_auc, best_params,MAX_auc,MAX_spec,MAX_sens,MAX_acc,MAX_comb,MAX_feat,INDEXES,best_params_total= gridsearch(params)"
   ]
  },
  {
   "cell_type": "code",
   "execution_count": 37,
   "metadata": {},
   "outputs": [
    {
     "name": "stdout",
     "output_type": "stream",
     "text": [
      "[3, 14, 11, 13, 15, 2, 1, 12]\n",
      "[0.35, 2, 1000, 1, 0.5, 0.5, 2, 4, 0.75, 0.1, 0.8]\n",
      "0.6107142857142858\n",
      "0.5975867269984917\n",
      "0.795\n",
      "0.6962933634992459\n"
     ]
    }
   ],
   "source": [
    "print(MAX_feat)\n",
    "print(MAX_comb)\n",
    "print(MAX_acc)\n",
    "print(MAX_spec)\n",
    "print(MAX_sens)\n",
    "print(MAX_auc)"
   ]
  },
  {
   "cell_type": "code",
   "execution_count": 39,
   "metadata": {},
   "outputs": [
    {
     "name": "stdout",
     "output_type": "stream",
     "text": [
      "parameters : [0.35, 2, 1000, 1, 0.5, 0.5, 2, 4, 0.75, 0.1, 0.8]\n",
      "accuracy : 0.6107142857142858\n",
      "spes     : 0.5975867269984917\n",
      "sens     : 0.795\n",
      "auc      : 0.6962933634992459\n",
      "[3, 14, 11, 13, 15, 2, 1, 12]\n",
      "[3, 14, 11, 13, 15, 2, 1, 12, 10, 5, 8, 4, 0, 7, 6, 9, 16]\n",
      "------------------------------------------------\n",
      "parameters : [0.35, 2, 1000, 2, 0.5, 0.5, 1.5, 4, 0.75, 0.1, 1.0]\n",
      "accuracy : 0.5732142857142857\n",
      "spes     : 0.5552036199095023\n",
      "sens     : 0.81\n",
      "auc      : 0.6826018099547511\n",
      "[3, 13, 11, 14, 1, 15, 2, 12, 10, 5, 8]\n",
      "[3, 13, 11, 14, 1, 15, 2, 12, 10, 5, 8, 4, 0, 6, 7, 9, 16]\n",
      "------------------------------------------------\n",
      "parameters : [0.35, 2, 1000, 2, 0.5, 0.5, 1.5, 5, 0.75, 0.1, 0.8]\n",
      "accuracy : 0.5803571428571428\n",
      "spes     : 0.5627073906485671\n",
      "sens     : 0.81\n",
      "auc      : 0.6863536953242836\n",
      "[3, 14, 13, 11, 12, 1, 2, 15, 10, 5, 8, 4, 0, 6, 9, 7]\n",
      "[3, 14, 13, 11, 12, 1, 2, 15, 10, 5, 8, 4, 0, 6, 9, 7, 16]\n",
      "------------------------------------------------\n",
      "parameters : [0.35, 2, 1000, 2, 1, 0.5, 1.5, 3, 0.75, 0.1, 1.0]\n",
      "accuracy : 0.6196428571428572\n",
      "spes     : 0.6091251885369532\n",
      "sens     : 0.76\n",
      "auc      : 0.6845625942684767\n",
      "[3, 13, 14, 11, 15, 1, 2, 12, 10, 5, 8, 4]\n",
      "[3, 13, 14, 11, 15, 1, 2, 12, 10, 5, 8, 4, 0, 6, 7, 9, 16]\n",
      "------------------------------------------------\n",
      "parameters : [0.35, 2, 1000, 3, 0, 0.5, 1.5, 5, 0.75, 0.1, 1.0]\n",
      "accuracy : 0.5767857142857142\n",
      "spes     : 0.5591628959276018\n",
      "sens     : 0.81\n",
      "auc      : 0.6845814479638009\n",
      "[3, 14, 13, 11, 15, 2, 1, 12, 10, 5, 8, 0, 4, 6, 7, 9]\n",
      "[3, 14, 13, 11, 15, 2, 1, 12, 10, 5, 8, 0, 4, 6, 7, 9, 16]\n",
      "------------------------------------------------\n",
      "parameters : [0.35, 3, 1000, 2, 0.5, 0.5, 1, 5, 0.75, 0.1, 0.8]\n",
      "accuracy : 0.5803571428571428\n",
      "spes     : 0.5630090497737557\n",
      "sens     : 0.815\n",
      "auc      : 0.6890045248868778\n",
      "[3, 14, 13, 11, 15, 1, 2, 12]\n",
      "[3, 14, 13, 11, 15, 1, 2, 12, 10, 5, 8, 4, 6, 0, 9, 7, 16]\n",
      "------------------------------------------------\n",
      "parameters : [0.35, 3, 1000, 2, 0.5, 0.75, 1.5, 5, 0.5, 0.1, 1.0]\n",
      "accuracy : 0.5910714285714286\n",
      "spes     : 0.5762443438914028\n",
      "sens     : 0.785\n",
      "auc      : 0.6806221719457013\n",
      "[3, 14, 11, 13, 1, 15, 2, 12, 10, 5, 8, 4, 0, 6, 7, 9]\n",
      "[3, 14, 11, 13, 1, 15, 2, 12, 10, 5, 8, 4, 0, 6, 7, 9, 16]\n",
      "------------------------------------------------\n",
      "parameters : [0.35, 3, 1000, 3, 0, 0.5, 2, 4, 0.5, 0.1, 1.0]\n",
      "accuracy : 0.6125\n",
      "spes     : 0.6014328808446455\n",
      "sens     : 0.76\n",
      "auc      : 0.6807164404223228\n",
      "[3, 14, 15, 11, 13, 1, 2, 12, 5, 10, 6, 8, 4, 0, 9, 7]\n",
      "[3, 14, 15, 11, 13, 1, 2, 12, 5, 10, 6, 8, 4, 0, 9, 7, 16]\n",
      "------------------------------------------------\n",
      "parameters : [0.35, 3, 1000, 3, 1, 1, 2, 3, 0.5, 0.1, 0.8]\n",
      "accuracy : 0.6571428571428571\n",
      "spes     : 0.653393665158371\n",
      "sens     : 0.71\n",
      "auc      : 0.6816968325791856\n",
      "[3, 14, 13, 11, 2, 15, 1, 12, 10, 5, 8]\n",
      "[3, 14, 13, 11, 2, 15, 1, 12, 10, 5, 8, 4, 6, 0, 7, 9, 16]\n",
      "------------------------------------------------\n",
      "9\n"
     ]
    }
   ],
   "source": [
    "#Τυπώνονται περιπτώσεις που accuracy>0.6 και specificity>0.6 και sensitivity>0.6 και auc>0.6\n",
    "s = 0\n",
    "for i in range(len(best_params_total)):\n",
    "    if best_params_total[i][4] > 0.68:\n",
    "        print(\"parameters :\",best_params_total[i][0])\n",
    "        print(\"accuracy :\",best_params_total[i][1])\n",
    "        print(\"spes     :\",best_params_total[i][2])\n",
    "        print(\"sens     :\",best_params_total[i][3])\n",
    "        print(\"auc      :\",best_params_total[i][4])\n",
    "        print(best_params_total[i][5])\n",
    "        print(best_params_total[i][6])\n",
    "        print(\"------------------------------------------------\")\n",
    "        s+=1\n",
    "print(s)"
   ]
  },
  {
   "cell_type": "code",
   "execution_count": 38,
   "metadata": {},
   "outputs": [
    {
     "name": "stdout",
     "output_type": "stream",
     "text": [
      "[2, 7, 6, 10, 2, 4, 2, 1, 3, 1, 5, 9, 6, 8, 9, 8]\n"
     ]
    }
   ],
   "source": [
    "IND = []\n",
    "for i in range(len(INDEXES)):\n",
    "    IND.append(INDEXES[i]//min(INDEXES))\n",
    "print(IND)"
   ]
  },
  {
   "cell_type": "code",
   "execution_count": 23,
   "metadata": {},
   "outputs": [],
   "source": [
    "# https://www.analyticsvidhya.com/blog/2016/03/complete-guide-parameter-tuning-xgboost-with-codes-python/        \n",
    "\n",
    "params = {\n",
    "                    \"learning_rate\"    :[0.35],  #0.01-0.2 Makes the model more robust by shrinking the weights on each step\n",
    "                    \"max_depth\"        :[2,3],  #3-10 control over-fitting as higher depth will allow model to learn relations very specific to a particular sample\n",
    "                    \"n_estimators\"     :[1000],\n",
    "                    \"min_child_weight\" :[1,2,3,4],         #0.5-1 small values might lead to under-fitting\n",
    "                    \"gamma\"            :[0,0.5,1],            #Makes the algorithm conservative --> No overfitting\n",
    "                    \"colsample_bylevel\" :[0.5,0.75,1], #0.5-1\n",
    "                     \"reg_lambda\"      :[1, 1.5, 2], #  it should be explored to reduce overfitting.\n",
    "                    \"scale_pos_weight\" :[3,4,5],\n",
    "                    \"colsample_bytree\" :[0.5,0.75,1.0],\n",
    "                    \"reg_alpha\"        :[0.2],\n",
    "                    \"subsample\"        :[0.8,0.9,1.0]\n",
    "    \n",
    "        }"
   ]
  },
  {
   "cell_type": "code",
   "execution_count": 24,
   "metadata": {},
   "outputs": [
    {
     "name": "stdout",
     "output_type": "stream",
     "text": [
      "5832\n",
      "\u001b[1mnew features\u001b[0m [3, 14, 11, 13, 15, 1, 2, 12, 10, 5, 8, 6, 0, 4]\n",
      "[0.35, 2, 1000, 2, 0, 1, 1, 5, 0.5, 0.2, 0.9]\n",
      "\u001b[1maccuracy    \u001b[0m 0.5928571428571429\n",
      "\u001b[1mspecificity \u001b[0m 0.576395173453997\n",
      "\u001b[1msensitivity \u001b[0m 0.81\n",
      "\u001b[1mauc         \u001b[0m 0.6931975867269985\n"
     ]
    },
    {
     "data": {
      "image/png": "[encoded data removed]",
      "text/plain": [
       "<Figure size 720x288 with 1 Axes>"
      ]
     },
     "metadata": {
      "needs_background": "light"
     },
     "output_type": "display_data"
    },
    {
     "name": "stdout",
     "output_type": "stream",
     "text": [
      "\u001b[1mnew features\u001b[0m [13, 3, 15, 11, 1, 14, 2, 12, 10, 5, 8, 4, 0, 6, 7, 9]\n",
      "[0.35, 3, 1000, 3, 1, 0.5, 1, 4, 0.5, 0.2, 1.0]\n",
      "\u001b[1maccuracy    \u001b[0m 0.5910714285714286\n",
      "\u001b[1mspecificity \u001b[0m 0.5743966817496229\n",
      "\u001b[1msensitivity \u001b[0m 0.81\n",
      "\u001b[1mauc         \u001b[0m 0.6921983408748115\n"
     ]
    },
    {
     "data": {
      "image/png": "[encoded data removed]",
      "text/plain": [
       "<Figure size 720x288 with 1 Axes>"
      ]
     },
     "metadata": {
      "needs_background": "light"
     },
     "output_type": "display_data"
    },
    {
     "name": "stdout",
     "output_type": "stream",
     "text": [
      "5831\r"
     ]
    }
   ],
   "source": [
    "max_sens, max_params, max_spes, max_acc, max_auc, best_params,MAX_auc,MAX_spec,MAX_sens,MAX_acc,MAX_comb,MAX_feat,INDEXES,best_params_total= gridsearch(params)"
   ]
  },
  {
   "cell_type": "code",
   "execution_count": 25,
   "metadata": {},
   "outputs": [
    {
     "name": "stdout",
     "output_type": "stream",
     "text": [
      "[3, 14, 11, 13, 15, 1, 2, 12, 10, 5, 8, 6, 0, 4]\n",
      "[0.35, 2, 1000, 2, 0, 1, 1, 5, 0.5, 0.2, 0.9]\n",
      "0.5928571428571429\n",
      "0.576395173453997\n",
      "0.81\n",
      "0.6931975867269985\n"
     ]
    }
   ],
   "source": [
    "print(MAX_feat)\n",
    "print(MAX_comb)\n",
    "print(MAX_acc)\n",
    "print(MAX_spec)\n",
    "print(MAX_sens)\n",
    "print(MAX_auc)"
   ]
  },
  {
   "cell_type": "code",
   "execution_count": 27,
   "metadata": {},
   "outputs": [
    {
     "name": "stdout",
     "output_type": "stream",
     "text": [
      "parameters : [0.35, 2, 1000, 2, 0, 1, 1, 5, 0.5, 0.2, 0.9]\n",
      "accuracy : 0.5928571428571429\n",
      "spes     : 0.576395173453997\n",
      "sens     : 0.81\n",
      "auc      : 0.6931975867269985\n",
      "[3, 14, 11, 13, 15, 1, 2, 12, 10, 5, 8, 6, 0, 4]\n",
      "[3, 14, 11, 13, 15, 1, 2, 12, 10, 5, 8, 6, 0, 4, 7, 9, 16]\n",
      "------------------------------------------------\n",
      "parameters : [0.35, 3, 1000, 3, 1, 0.5, 1, 4, 0.5, 0.2, 1.0]\n",
      "accuracy : 0.5910714285714286\n",
      "spes     : 0.5743966817496229\n",
      "sens     : 0.81\n",
      "auc      : 0.6921983408748115\n",
      "[13, 3, 15, 11, 1, 14, 2, 12, 10, 5, 8, 4, 0, 6, 7, 9]\n",
      "[13, 3, 15, 11, 1, 14, 2, 12, 10, 5, 8, 4, 0, 6, 7, 9, 16]\n",
      "------------------------------------------------\n",
      "2\n"
     ]
    }
   ],
   "source": [
    "#Τυπώνονται περιπτώσεις που accuracy>0.6 και specificity>0.6 και sensitivity>0.6 και auc>0.6\n",
    "s = 0\n",
    "for i in range(len(best_params_total)):\n",
    "    if best_params_total[i][4] > 0.69:\n",
    "        print(\"parameters :\",best_params_total[i][0])\n",
    "        print(\"accuracy :\",best_params_total[i][1])\n",
    "        print(\"spes     :\",best_params_total[i][2])\n",
    "        print(\"sens     :\",best_params_total[i][3])\n",
    "        print(\"auc      :\",best_params_total[i][4])\n",
    "        print(best_params_total[i][5])\n",
    "        print(best_params_total[i][6])\n",
    "        print(\"------------------------------------------------\")\n",
    "        s+=1\n",
    "print(s)"
   ]
  },
  {
   "cell_type": "code",
   "execution_count": 26,
   "metadata": {},
   "outputs": [
    {
     "name": "stdout",
     "output_type": "stream",
     "text": [
      "[2, 7, 6, 10, 2, 4, 2, 1, 3, 1, 5, 8, 5, 8, 9, 7]\n"
     ]
    }
   ],
   "source": [
    "IND = []\n",
    "for i in range(len(INDEXES)):\n",
    "    IND.append(INDEXES[i]//min(INDEXES))\n",
    "print(IND)"
   ]
  },
  {
   "cell_type": "code",
   "execution_count": 26,
   "metadata": {},
   "outputs": [],
   "source": [
    "# https://www.analyticsvidhya.com/blog/2016/03/complete-guide-parameter-tuning-xgboost-with-codes-python/        \n",
    "\n",
    "params = {\n",
    "                    \"learning_rate\"    :[0.52],  #0.01-0.2 Makes the model more robust by shrinking the weights on each step\n",
    "                    \"max_depth\"        :[2,3],  #3-10 control over-fitting as higher depth will allow model to learn relations very specific to a particular sample\n",
    "                    \"n_estimators\"     :[1000],\n",
    "                    \"min_child_weight\" :[1,2,3,4],         #0.5-1 small values might lead to under-fitting\n",
    "                    \"gamma\"            :[0,0.5,1],            #Makes the algorithm conservative --> No overfitting\n",
    "                    \"colsample_bylevel\" :[0.5,0.75,1], #0.5-1\n",
    "                     \"reg_lambda\"      :[1, 1.5, 2], #  it should be explored to reduce overfitting.\n",
    "                    \"scale_pos_weight\" :[3,4,5],\n",
    "                    \"colsample_bytree\" :[0.5,0.75,1.0],\n",
    "                    \"reg_alpha\"        :[0],\n",
    "                    \"subsample\"        :[0.8,0.9,1.0]\n",
    "    \n",
    "        }"
   ]
  },
  {
   "cell_type": "code",
   "execution_count": 27,
   "metadata": {},
   "outputs": [
    {
     "name": "stdout",
     "output_type": "stream",
     "text": [
      "5832\n",
      "\u001b[1mnew features\u001b[0m [14, 3, 11, 13, 2, 15, 1, 12, 10, 5, 8, 6, 0]\n",
      "[0.52, 2, 1000, 3, 0, 0.75, 1, 5, 1.0, 0, 1.0]\n",
      "\u001b[1maccuracy    \u001b[0m 0.6107142857142857\n",
      "\u001b[1mspecificity \u001b[0m 0.5976244343891403\n",
      "\u001b[1msensitivity \u001b[0m 0.785\n",
      "\u001b[1mauc         \u001b[0m 0.6913122171945701\n"
     ]
    },
    {
     "data": {
      "image/png": "[encoded data removed]",
      "text/plain": [
       "<Figure size 720x288 with 1 Axes>"
      ]
     },
     "metadata": {
      "needs_background": "light"
     },
     "output_type": "display_data"
    },
    {
     "name": "stdout",
     "output_type": "stream",
     "text": [
      "\u001b[1mnew features\u001b[0m [3, 13, 14, 11, 1, 15, 2, 12, 10, 5, 8, 4, 9]\n",
      "[0.52, 3, 1000, 1, 1, 0.5, 1, 3, 0.5, 0, 0.8]\n",
      "\u001b[1maccuracy    \u001b[0m 0.6982142857142857\n",
      "\u001b[1mspecificity \u001b[0m 0.6996606334841629\n",
      "\u001b[1msensitivity \u001b[0m 0.685\n",
      "\u001b[1mauc         \u001b[0m 0.6923303167420815\n"
     ]
    },
    {
     "data": {
      "image/png": "[encoded data removed]",
      "text/plain": [
       "<Figure size 720x288 with 1 Axes>"
      ]
     },
     "metadata": {
      "needs_background": "light"
     },
     "output_type": "display_data"
    },
    {
     "name": "stdout",
     "output_type": "stream",
     "text": [
      "5831\r"
     ]
    }
   ],
   "source": [
    "max_sens, max_params, max_spes, max_acc, max_auc, best_params,MAX_auc,MAX_spec,MAX_sens,MAX_acc,MAX_comb,MAX_feat,INDEXES,best_params_total= gridsearch(params)"
   ]
  },
  {
   "cell_type": "code",
   "execution_count": 28,
   "metadata": {},
   "outputs": [
    {
     "name": "stdout",
     "output_type": "stream",
     "text": [
      "[3, 13, 14, 11, 1, 15, 2, 12, 10, 5, 8, 4, 9]\n",
      "[0.52, 3, 1000, 1, 1, 0.5, 1, 3, 0.5, 0, 0.8]\n",
      "0.6982142857142857\n",
      "0.6996606334841629\n",
      "0.685\n",
      "0.6923303167420815\n"
     ]
    }
   ],
   "source": [
    "print(MAX_feat)\n",
    "print(MAX_comb)\n",
    "print(MAX_acc)\n",
    "print(MAX_spec)\n",
    "print(MAX_sens)\n",
    "print(MAX_auc)"
   ]
  },
  {
   "cell_type": "code",
   "execution_count": 29,
   "metadata": {},
   "outputs": [
    {
     "name": "stdout",
     "output_type": "stream",
     "text": [
      "[2, 7, 6, 9, 3, 4, 2, 1, 3, 1, 5, 8, 5, 8, 9, 7]\n"
     ]
    }
   ],
   "source": [
    "IND = []\n",
    "for i in range(len(INDEXES)):\n",
    "    IND.append(INDEXES[i]//min(INDEXES))\n",
    "print(IND)"
   ]
  },
  {
   "cell_type": "code",
   "execution_count": 25,
   "metadata": {},
   "outputs": [],
   "source": [
    "# https://www.analyticsvidhya.com/blog/2016/03/complete-guide-parameter-tuning-xgboost-with-codes-python/        \n",
    "\n",
    "params = {\n",
    "                    \"learning_rate\"    :[0.52],  #0.01-0.2 Makes the model more robust by shrinking the weights on each step\n",
    "                    \"max_depth\"        :[2,3],  #3-10 control over-fitting as higher depth will allow model to learn relations very specific to a particular sample\n",
    "                    \"n_estimators\"     :[1000],\n",
    "                    \"min_child_weight\" :[1,2,3,4],         #0.5-1 small values might lead to under-fitting\n",
    "                    \"gamma\"            :[0,0.5,1],            #Makes the algorithm conservative --> No overfitting\n",
    "                    \"colsample_bylevel\" :[0.5,0.75,1], #0.5-1\n",
    "                     \"reg_lambda\"      :[1, 1.5, 2], #  it should be explored to reduce overfitting.\n",
    "                    \"scale_pos_weight\" :[3,4,5],\n",
    "                    \"colsample_bytree\" :[0.5,0.75,1.0],\n",
    "                    \"reg_alpha\"        :[0.1],\n",
    "                    \"subsample\"        :[0.8,0.9,1.0]\n",
    "    \n",
    "        }"
   ]
  },
  {
   "cell_type": "code",
   "execution_count": 26,
   "metadata": {},
   "outputs": [
    {
     "name": "stdout",
     "output_type": "stream",
     "text": [
      "5832\n",
      "\u001b[1mnew features\u001b[0m [14, 3, 11, 13, 2, 15, 12, 1, 5, 10, 4, 6, 8, 0]\n",
      "[0.52, 2, 1000, 3, 0, 0.75, 1, 5, 0.75, 0.1, 0.9]\n",
      "\u001b[1maccuracy    \u001b[0m 0.6142857142857143\n",
      "\u001b[1mspecificity \u001b[0m 0.6014328808446455\n",
      "\u001b[1msensitivity \u001b[0m 0.785\n",
      "\u001b[1mauc         \u001b[0m 0.6932164404223228\n"
     ]
    },
    {
     "data": {
      "image/png": "[encoded data removed]",
      "text/plain": [
       "<Figure size 720x288 with 1 Axes>"
      ]
     },
     "metadata": {
      "needs_background": "light"
     },
     "output_type": "display_data"
    },
    {
     "name": "stdout",
     "output_type": "stream",
     "text": [
      "\u001b[1mnew features\u001b[0m [3, 14, 11, 13, 12, 1, 15, 2, 10, 5, 4, 8, 6, 0]\n",
      "[0.52, 3, 1000, 1, 0, 0.5, 1.5, 4, 0.75, 0.1, 0.8]\n",
      "\u001b[1maccuracy    \u001b[0m 0.6839285714285714\n",
      "\u001b[1mspecificity \u001b[0m 0.682315233785822\n",
      "\u001b[1msensitivity \u001b[0m 0.71\n",
      "\u001b[1mauc         \u001b[0m 0.696157616892911\n"
     ]
    },
    {
     "data": {
      "image/png": "[encoded data removed]",
      "text/plain": [
       "<Figure size 720x288 with 1 Axes>"
      ]
     },
     "metadata": {
      "needs_background": "light"
     },
     "output_type": "display_data"
    },
    {
     "name": "stdout",
     "output_type": "stream",
     "text": [
      "\u001b[1mnew features\u001b[0m [3, 14, 13, 15, 11, 2, 1, 12, 10, 5, 4, 0, 8, 6]\n",
      "[0.52, 3, 1000, 3, 0, 0.5, 2, 4, 0.75, 0.1, 1.0]\n",
      "\u001b[1maccuracy    \u001b[0m 0.6321428571428571\n",
      "\u001b[1mspecificity \u001b[0m 0.6226621417797888\n",
      "\u001b[1msensitivity \u001b[0m 0.76\n",
      "\u001b[1mauc         \u001b[0m 0.6913310708898944\n"
     ]
    },
    {
     "data": {
      "image/png": "[encoded data removed]",
      "text/plain": [
       "<Figure size 720x288 with 1 Axes>"
      ]
     },
     "metadata": {
      "needs_background": "light"
     },
     "output_type": "display_data"
    },
    {
     "name": "stdout",
     "output_type": "stream",
     "text": [
      "\u001b[1mnew features\u001b[0m [14, 3, 11, 13, 15, 1, 2, 12]\n",
      "[0.52, 3, 1000, 3, 0.5, 0.5, 1, 5, 0.75, 0.1, 0.8]\n",
      "\u001b[1maccuracy    \u001b[0m 0.5910714285714286\n",
      "\u001b[1mspecificity \u001b[0m 0.5746983408748114\n",
      "\u001b[1msensitivity \u001b[0m 0.815\n",
      "\u001b[1mauc         \u001b[0m 0.6948491704374057\n"
     ]
    },
    {
     "data": {
      "image/png": "[encoded data removed]",
      "text/plain": [
       "<Figure size 720x288 with 1 Axes>"
      ]
     },
     "metadata": {
      "needs_background": "light"
     },
     "output_type": "display_data"
    },
    {
     "name": "stdout",
     "output_type": "stream",
     "text": [
      "\u001b[1mnew features\u001b[0m [3, 15, 13, 14, 11, 2, 1, 12, 10, 5, 8]\n",
      "[0.52, 3, 1000, 4, 1, 0.5, 1.5, 5, 0.75, 0.1, 1.0]\n",
      "\u001b[1maccuracy    \u001b[0m 0.5464285714285715\n",
      "\u001b[1mspecificity \u001b[0m 0.5226621417797889\n",
      "\u001b[1msensitivity \u001b[0m 0.86\n",
      "\u001b[1mauc         \u001b[0m 0.6913310708898944\n"
     ]
    },
    {
     "data": {
      "image/png": "[encoded data removed]",
      "text/plain": [
       "<Figure size 720x288 with 1 Axes>"
      ]
     },
     "metadata": {
      "needs_background": "light"
     },
     "output_type": "display_data"
    },
    {
     "name": "stdout",
     "output_type": "stream",
     "text": [
      "5831\r"
     ]
    }
   ],
   "source": [
    "max_sens, max_params, max_spes, max_acc, max_auc, best_params,MAX_auc,MAX_spec,MAX_sens,MAX_acc,MAX_comb,MAX_feat,INDEXES,best_params_total= gridsearch(params)"
   ]
  },
  {
   "cell_type": "code",
   "execution_count": 27,
   "metadata": {},
   "outputs": [
    {
     "name": "stdout",
     "output_type": "stream",
     "text": [
      "[3, 14, 11, 13, 12, 1, 15, 2, 10, 5, 4, 8, 6, 0]\n",
      "[0.52, 3, 1000, 1, 0, 0.5, 1.5, 4, 0.75, 0.1, 0.8]\n",
      "0.6839285714285714\n",
      "0.682315233785822\n",
      "0.71\n",
      "0.696157616892911\n"
     ]
    }
   ],
   "source": [
    "print(MAX_feat)\n",
    "print(MAX_comb)\n",
    "print(MAX_acc)\n",
    "print(MAX_spec)\n",
    "print(MAX_sens)\n",
    "print(MAX_auc)"
   ]
  },
  {
   "cell_type": "code",
   "execution_count": 28,
   "metadata": {},
   "outputs": [
    {
     "name": "stdout",
     "output_type": "stream",
     "text": [
      "parameters : [0.52, 2, 1000, 3, 0, 0.75, 1, 5, 0.75, 0.1, 0.9]\n",
      "accuracy : 0.6142857142857143\n",
      "spes     : 0.6014328808446455\n",
      "sens     : 0.785\n",
      "auc      : 0.6932164404223228\n",
      "[14, 3, 11, 13, 2, 15, 12, 1, 5, 10, 4, 6, 8, 0]\n",
      "[14, 3, 11, 13, 2, 15, 12, 1, 5, 10, 4, 6, 8, 0, 9, 7, 16]\n",
      "------------------------------------------------\n",
      "parameters : [0.52, 3, 1000, 1, 0, 0.5, 1.5, 4, 0.75, 0.1, 0.8]\n",
      "accuracy : 0.6839285714285714\n",
      "spes     : 0.682315233785822\n",
      "sens     : 0.71\n",
      "auc      : 0.696157616892911\n",
      "[3, 14, 11, 13, 12, 1, 15, 2, 10, 5, 4, 8, 6, 0]\n",
      "[3, 14, 11, 13, 12, 1, 15, 2, 10, 5, 4, 8, 6, 0, 9, 7, 16]\n",
      "------------------------------------------------\n",
      "parameters : [0.52, 3, 1000, 3, 0, 0.5, 2, 4, 0.75, 0.1, 1.0]\n",
      "accuracy : 0.6321428571428571\n",
      "spes     : 0.6226621417797888\n",
      "sens     : 0.76\n",
      "auc      : 0.6913310708898944\n",
      "[3, 14, 13, 15, 11, 2, 1, 12, 10, 5, 4, 0, 8, 6]\n",
      "[3, 14, 13, 15, 11, 2, 1, 12, 10, 5, 4, 0, 8, 6, 7, 9, 16]\n",
      "------------------------------------------------\n",
      "parameters : [0.52, 3, 1000, 3, 0.5, 0.5, 1, 5, 0.75, 0.1, 0.8]\n",
      "accuracy : 0.5910714285714286\n",
      "spes     : 0.5746983408748114\n",
      "sens     : 0.815\n",
      "auc      : 0.6948491704374057\n",
      "[14, 3, 11, 13, 15, 1, 2, 12]\n",
      "[14, 3, 11, 13, 15, 1, 2, 12, 10, 5, 8, 0, 4, 6, 9, 7, 16]\n",
      "------------------------------------------------\n",
      "parameters : [0.52, 3, 1000, 4, 1, 0.5, 1.5, 5, 0.75, 0.1, 1.0]\n",
      "accuracy : 0.5464285714285715\n",
      "spes     : 0.5226621417797889\n",
      "sens     : 0.86\n",
      "auc      : 0.6913310708898944\n",
      "[3, 15, 13, 14, 11, 2, 1, 12, 10, 5, 8]\n",
      "[3, 15, 13, 14, 11, 2, 1, 12, 10, 5, 8, 0, 6, 4, 7, 9, 16]\n",
      "------------------------------------------------\n",
      "5\n"
     ]
    }
   ],
   "source": [
    "#Τυπώνονται περιπτώσεις που accuracy>0.6 και specificity>0.6 και sensitivity>0.6 και auc>0.6\n",
    "s = 0\n",
    "for i in range(len(best_params_total)):\n",
    "    if best_params_total[i][4] > 0.69:\n",
    "        print(\"parameters :\",best_params_total[i][0])\n",
    "        print(\"accuracy :\",best_params_total[i][1])\n",
    "        print(\"spes     :\",best_params_total[i][2])\n",
    "        print(\"sens     :\",best_params_total[i][3])\n",
    "        print(\"auc      :\",best_params_total[i][4])\n",
    "        print(best_params_total[i][5])\n",
    "        print(best_params_total[i][6])\n",
    "        print(\"------------------------------------------------\")\n",
    "        s+=1\n",
    "print(s)"
   ]
  },
  {
   "cell_type": "code",
   "execution_count": 29,
   "metadata": {},
   "outputs": [
    {
     "name": "stdout",
     "output_type": "stream",
     "text": [
      "[2, 7, 6, 9, 3, 4, 2, 1, 3, 1, 5, 8, 5, 8, 9, 7]\n"
     ]
    }
   ],
   "source": [
    "IND = []\n",
    "for i in range(len(INDEXES)):\n",
    "    IND.append(INDEXES[i]//min(INDEXES))\n",
    "print(IND)"
   ]
  },
  {
   "cell_type": "code",
   "execution_count": 23,
   "metadata": {},
   "outputs": [],
   "source": [
    "# https://www.analyticsvidhya.com/blog/2016/03/complete-guide-parameter-tuning-xgboost-with-codes-python/        \n",
    "\n",
    "params = {\n",
    "                    \"learning_rate\"    :[0.52],  #0.01-0.2 Makes the model more robust by shrinking the weights on each step\n",
    "                    \"max_depth\"        :[2,3],  #3-10 control over-fitting as higher depth will allow model to learn relations very specific to a particular sample\n",
    "                    \"n_estimators\"     :[1000],\n",
    "                    \"min_child_weight\" :[1,2,3,4],         #0.5-1 small values might lead to under-fitting\n",
    "                    \"gamma\"            :[0,0.5,1],            #Makes the algorithm conservative --> No overfitting\n",
    "                    \"colsample_bylevel\" :[0.5,0.75,1], #0.5-1\n",
    "                     \"reg_lambda\"      :[1, 1.5, 2], #  it should be explored to reduce overfitting.\n",
    "                    \"scale_pos_weight\" :[3,4,5],\n",
    "                    \"colsample_bytree\" :[0.5,0.75,1.0],\n",
    "                    \"reg_alpha\"        :[0.2],\n",
    "                    \"subsample\"        :[0.8,0.9,1.0]\n",
    "    \n",
    "        }"
   ]
  },
  {
   "cell_type": "code",
   "execution_count": 24,
   "metadata": {},
   "outputs": [
    {
     "name": "stdout",
     "output_type": "stream",
     "text": [
      "5832\n",
      "\u001b[1mnew features\u001b[0m [3, 14, 13, 11, 15, 1, 12, 2, 10, 5, 6, 4, 8, 0, 9]\n",
      "[0.52, 2, 1000, 1, 0, 0.5, 1.5, 5, 0.75, 0.2, 0.8]\n",
      "\u001b[1maccuracy    \u001b[0m 0.6357142857142857\n",
      "\u001b[1mspecificity \u001b[0m 0.6264705882352941\n",
      "\u001b[1msensitivity \u001b[0m 0.76\n",
      "\u001b[1mauc         \u001b[0m 0.6932352941176471\n"
     ]
    },
    {
     "data": {
      "image/png": "[encoded data removed]",
      "text/plain": [
       "<Figure size 720x288 with 1 Axes>"
      ]
     },
     "metadata": {
      "needs_background": "light"
     },
     "output_type": "display_data"
    },
    {
     "name": "stdout",
     "output_type": "stream",
     "text": [
      "\u001b[1mnew features\u001b[0m [14, 3, 13, 15, 1, 11, 2, 12, 10, 5, 8, 6, 4, 7]\n",
      "[0.52, 3, 1000, 1, 1, 0.5, 1, 5, 1.0, 0.2, 0.8]\n",
      "\u001b[1maccuracy    \u001b[0m 0.6\n",
      "\u001b[1mspecificity \u001b[0m 0.5820889894419307\n",
      "\u001b[1msensitivity \u001b[0m 0.835\n",
      "\u001b[1mauc         \u001b[0m 0.7085444947209653\n"
     ]
    },
    {
     "data": {
      "image/png": "[encoded data removed]",
      "text/plain": [
       "<Figure size 720x288 with 1 Axes>"
      ]
     },
     "metadata": {
      "needs_background": "light"
     },
     "output_type": "display_data"
    },
    {
     "name": "stdout",
     "output_type": "stream",
     "text": [
      "5831\r"
     ]
    }
   ],
   "source": [
    "max_sens, max_params, max_spes, max_acc, max_auc, best_params,MAX_auc,MAX_spec,MAX_sens,MAX_acc,MAX_comb,MAX_feat,INDEXES,best_params_total= gridsearch(params)"
   ]
  },
  {
   "cell_type": "code",
   "execution_count": 25,
   "metadata": {},
   "outputs": [
    {
     "name": "stdout",
     "output_type": "stream",
     "text": [
      "[14, 3, 13, 15, 1, 11, 2, 12, 10, 5, 8, 6, 4, 7]\n",
      "[0.52, 3, 1000, 1, 1, 0.5, 1, 5, 1.0, 0.2, 0.8]\n",
      "0.6\n",
      "0.5820889894419307\n",
      "0.835\n",
      "0.7085444947209653\n"
     ]
    }
   ],
   "source": [
    "print(MAX_feat)\n",
    "print(MAX_comb)\n",
    "print(MAX_acc)\n",
    "print(MAX_spec)\n",
    "print(MAX_sens)\n",
    "print(MAX_auc)"
   ]
  },
  {
   "cell_type": "code",
   "execution_count": 26,
   "metadata": {},
   "outputs": [
    {
     "name": "stdout",
     "output_type": "stream",
     "text": [
      "parameters : [0.52, 2, 1000, 1, 0, 0.5, 1.5, 5, 0.75, 0.2, 0.8]\n",
      "accuracy : 0.6357142857142857\n",
      "spes     : 0.6264705882352941\n",
      "sens     : 0.76\n",
      "auc      : 0.6932352941176471\n",
      "[3, 14, 13, 11, 15, 1, 12, 2, 10, 5, 6, 4, 8, 0, 9]\n",
      "[3, 14, 13, 11, 15, 1, 12, 2, 10, 5, 6, 4, 8, 0, 9, 7, 16]\n",
      "------------------------------------------------\n",
      "parameters : [0.52, 3, 1000, 1, 1, 0.5, 1, 5, 1.0, 0.2, 0.8]\n",
      "accuracy : 0.6\n",
      "spes     : 0.5820889894419307\n",
      "sens     : 0.835\n",
      "auc      : 0.7085444947209653\n",
      "[14, 3, 13, 15, 1, 11, 2, 12, 10, 5, 8, 6, 4, 7]\n",
      "[14, 3, 13, 15, 1, 11, 2, 12, 10, 5, 8, 6, 4, 7, 9, 0, 16]\n",
      "------------------------------------------------\n",
      "2\n"
     ]
    }
   ],
   "source": [
    "#Τυπώνονται περιπτώσεις που accuracy>0.6 και specificity>0.6 και sensitivity>0.6 και auc>0.6\n",
    "s = 0\n",
    "for i in range(len(best_params_total)):\n",
    "    if best_params_total[i][4] > 0.69:\n",
    "        print(\"parameters :\",best_params_total[i][0])\n",
    "        print(\"accuracy :\",best_params_total[i][1])\n",
    "        print(\"spes     :\",best_params_total[i][2])\n",
    "        print(\"sens     :\",best_params_total[i][3])\n",
    "        print(\"auc      :\",best_params_total[i][4])\n",
    "        print(best_params_total[i][5])\n",
    "        print(best_params_total[i][6])\n",
    "        print(\"------------------------------------------------\")\n",
    "        s+=1\n",
    "print(s)"
   ]
  },
  {
   "cell_type": "code",
   "execution_count": 27,
   "metadata": {},
   "outputs": [
    {
     "name": "stdout",
     "output_type": "stream",
     "text": [
      "[2, 7, 6, 9, 3, 4, 2, 1, 3, 1, 5, 8, 5, 8, 9, 7]\n"
     ]
    }
   ],
   "source": [
    "IND = []\n",
    "for i in range(len(INDEXES)):\n",
    "    IND.append(INDEXES[i]//min(INDEXES))\n",
    "print(IND)"
   ]
  },
  {
   "cell_type": "code",
   "execution_count": null,
   "metadata": {},
   "outputs": [],
   "source": []
  }
 ],
 "metadata": {
  "kernelspec": {
   "display_name": "Python 3",
   "language": "python",
   "name": "python3"
  },
  "language_info": {
   "codemirror_mode": {
    "name": "ipython",
    "version": 3
   },
   "file_extension": ".py",
   "mimetype": "text/x-python",
   "name": "python",
   "nbconvert_exporter": "python",
   "pygments_lexer": "ipython3",
   "version": "3.7.6"
  }
 },
 "nbformat": 4,
 "nbformat_minor": 4
}
